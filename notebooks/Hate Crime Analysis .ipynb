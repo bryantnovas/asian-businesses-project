{
 "cells": [
  {
   "cell_type": "markdown",
   "id": "deadly-compromise",
   "metadata": {},
   "source": [
    "# Table of Contents:\n",
    "\n",
    "[1.Background & Introduction](#1)<br>\n",
    "[2.Analysis on our Data](#2)<br>\n",
    "[3. Exploratory Data Analysis](#3)<br>\n",
    "[4.Futher Analysis and Conclusions](#4)<br>"
   ]
  },
  {
   "cell_type": "markdown",
   "id": "rental-romania",
   "metadata": {},
   "source": [
    "## Background & Introduction <a id='1'></a>:\n"
   ]
  },
  {
   "cell_type": "markdown",
   "id": "advisory-large",
   "metadata": {},
   "source": [
    "### Objective :\n",
    "               The objective is to analyze the Hate Crime Data in NYC. Specifically, we want to analyze Anti-Asian Hate Crime. With COVID-19,many Anti-Asians faced a huge shift in their buisness traffic. By analyzing, the hate crime data, we want to see the relationship this has within NYC and the Asian business that exist. "
   ]
  },
  {
   "cell_type": "markdown",
   "id": "computational-telling",
   "metadata": {},
   "source": [
    "### What Is A Hate Crime ?\n",
    "        A hate crime is defined as the highest priority of the FBI's civil rights program. A hate crime as a whole is defined as a crime involving violence. that is motivated by prejudice on the basis of   race,religion, sexual orientation, or other groups. \n",
    "\n",
    "### How Many Hate Crimes Occur Per Year ?\n",
    "     There are 7,314 hate crime incidents involving 8,559 offenses. The predicate offenses of a hate crime consist of murder, non negligent manslaughter,forcible rape,agg assault, arson, intimidation, and vandalism. "
   ]
  },
  {
   "cell_type": "markdown",
   "id": "external-israel",
   "metadata": {},
   "source": [
    "### Hypthesis:\n",
    "    Our hypothesis is that throughout the pandemic there has been an increase in Hate Crime in the Asian community, due to the origin being reported as China.Therefore impacting the view of the Asian community,publicly and many feeling discouraged by the viewpoint of the Asian community. Overall the 500% of Hate Crimes impact the buisness traffic of the Asian buisness that exist. We also hypothesize that due to the pandemic, there is a difference in trend with the hate crime data."
   ]
  },
  {
   "cell_type": "markdown",
   "id": "operating-feeding",
   "metadata": {},
   "source": [
    "## Analysis on Our Data <a id='2'></a>"
   ]
  },
  {
   "cell_type": "markdown",
   "id": "worse-length",
   "metadata": {},
   "source": [
    "### Our Data: "
   ]
  },
  {
   "cell_type": "markdown",
   "id": "abroad-intention",
   "metadata": {},
   "source": [
    "#### The data is organized by the report sightings that are found per each precicnt. Each is selected by bias category, and bias type with the offense description of what they face. Ranging from the first date to most recent date, and analyzed from quarterly reports that are passed to the NYPD. All with a specific offense description and the number of arrests that occured within that day. \n"
   ]
  },
  {
   "cell_type": "markdown",
   "id": "commercial-turkey",
   "metadata": {},
   "source": [
    "### Libraries We Will Be Using:\n",
    "       - Numpy -> We are using the numpy to create array's that we can chart. \n",
    "     - Pandas -> The pandas library is being used to read and analyze our dataframe \n",
    "    - MatPlotLib -> We are using matplotlib for data visualization."
   ]
  },
  {
   "cell_type": "markdown",
   "id": "disabled-science",
   "metadata": {},
   "source": [
    "#### We are reading in the dataframe of the Hate Crimes that occured in 2020. "
   ]
  },
  {
   "cell_type": "code",
   "execution_count": 1,
   "id": "comparable-employee",
   "metadata": {},
   "outputs": [],
   "source": [
    "import numpy as np \n",
    "import pandas as pd"
   ]
  },
  {
   "cell_type": "code",
   "execution_count": 2,
   "id": "north-medication",
   "metadata": {},
   "outputs": [
    {
     "data": {
      "text/html": [
       "<div>\n",
       "<style scoped>\n",
       "    .dataframe tbody tr th:only-of-type {\n",
       "        vertical-align: middle;\n",
       "    }\n",
       "\n",
       "    .dataframe tbody tr th {\n",
       "        vertical-align: top;\n",
       "    }\n",
       "\n",
       "    .dataframe thead th {\n",
       "        text-align: right;\n",
       "    }\n",
       "</style>\n",
       "<table border=\"1\" class=\"dataframe\">\n",
       "  <thead>\n",
       "    <tr style=\"text-align: right;\">\n",
       "      <th></th>\n",
       "      <th>Unnamed: 0</th>\n",
       "      <th>Unnamed: 1</th>\n",
       "      <th>Unnamed: 2</th>\n",
       "      <th>Unnamed: 3</th>\n",
       "      <th>Unnamed: 4</th>\n",
       "      <th>Unnamed: 5</th>\n",
       "    </tr>\n",
       "  </thead>\n",
       "  <tbody>\n",
       "    <tr>\n",
       "      <th>0</th>\n",
       "      <td>NYC Hate Crime Report</td>\n",
       "      <td>NaN</td>\n",
       "      <td>NaN</td>\n",
       "      <td>NaN</td>\n",
       "      <td>NaN</td>\n",
       "      <td>NaN</td>\n",
       "    </tr>\n",
       "    <tr>\n",
       "      <th>1</th>\n",
       "      <td>Arrest Statistics involving Hate Crime Incidents</td>\n",
       "      <td>NaN</td>\n",
       "      <td>NaN</td>\n",
       "      <td>NaN</td>\n",
       "      <td>NaN</td>\n",
       "      <td>NaN</td>\n",
       "    </tr>\n",
       "    <tr>\n",
       "      <th>2</th>\n",
       "      <td>by Arrestee Gender, Race, Age and Bias Motivation</td>\n",
       "      <td>NaN</td>\n",
       "      <td>NaN</td>\n",
       "      <td>NaN</td>\n",
       "      <td>NaN</td>\n",
       "      <td>NaN</td>\n",
       "    </tr>\n",
       "    <tr>\n",
       "      <th>3</th>\n",
       "      <td>CY2020</td>\n",
       "      <td>NaN</td>\n",
       "      <td>NaN</td>\n",
       "      <td>NaN</td>\n",
       "      <td>NaN</td>\n",
       "      <td>NaN</td>\n",
       "    </tr>\n",
       "    <tr>\n",
       "      <th>4</th>\n",
       "      <td>NaN</td>\n",
       "      <td>NaN</td>\n",
       "      <td>NaN</td>\n",
       "      <td>NaN</td>\n",
       "      <td>NaN</td>\n",
       "      <td>NaN</td>\n",
       "    </tr>\n",
       "    <tr>\n",
       "      <th>...</th>\n",
       "      <td>...</td>\n",
       "      <td>...</td>\n",
       "      <td>...</td>\n",
       "      <td>...</td>\n",
       "      <td>...</td>\n",
       "      <td>...</td>\n",
       "    </tr>\n",
       "    <tr>\n",
       "      <th>94</th>\n",
       "      <td>89</td>\n",
       "      <td>120</td>\n",
       "      <td>FEMALE</td>\n",
       "      <td>WHITE HISPANIC</td>\n",
       "      <td>70</td>\n",
       "      <td>ANTI-ASIAN</td>\n",
       "    </tr>\n",
       "    <tr>\n",
       "      <th>95</th>\n",
       "      <td>90</td>\n",
       "      <td>120</td>\n",
       "      <td>FEMALE</td>\n",
       "      <td>WHITE HISPANIC</td>\n",
       "      <td>70</td>\n",
       "      <td>ANTI-BLACK</td>\n",
       "    </tr>\n",
       "    <tr>\n",
       "      <th>96</th>\n",
       "      <td>91</td>\n",
       "      <td>120</td>\n",
       "      <td>FEMALE</td>\n",
       "      <td>WHITE HISPANIC</td>\n",
       "      <td>70</td>\n",
       "      <td>ANTI-MALE HOMOSEXUAL(GAY)</td>\n",
       "    </tr>\n",
       "    <tr>\n",
       "      <th>97</th>\n",
       "      <td>92</td>\n",
       "      <td>120</td>\n",
       "      <td>FEMALE</td>\n",
       "      <td>WHITE HISPANIC</td>\n",
       "      <td>70</td>\n",
       "      <td>ANTI-WHITE</td>\n",
       "    </tr>\n",
       "    <tr>\n",
       "      <th>98</th>\n",
       "      <td>93</td>\n",
       "      <td>120</td>\n",
       "      <td>FEMALE</td>\n",
       "      <td>WHITE HISPANIC</td>\n",
       "      <td>70</td>\n",
       "      <td>ANTI-WHITE</td>\n",
       "    </tr>\n",
       "  </tbody>\n",
       "</table>\n",
       "<p>99 rows × 6 columns</p>\n",
       "</div>"
      ],
      "text/plain": [
       "                                           Unnamed: 0 Unnamed: 1 Unnamed: 2  \\\n",
       "0                               NYC Hate Crime Report        NaN        NaN   \n",
       "1   Arrest Statistics involving Hate Crime Incidents         NaN        NaN   \n",
       "2   by Arrestee Gender, Race, Age and Bias Motivation        NaN        NaN   \n",
       "3                                              CY2020        NaN        NaN   \n",
       "4                                                 NaN        NaN        NaN   \n",
       "..                                                ...        ...        ...   \n",
       "94                                                 89        120     FEMALE   \n",
       "95                                                 90        120     FEMALE   \n",
       "96                                                 91        120     FEMALE   \n",
       "97                                                 92        120     FEMALE   \n",
       "98                                                 93        120     FEMALE   \n",
       "\n",
       "        Unnamed: 3 Unnamed: 4                 Unnamed: 5  \n",
       "0              NaN        NaN                        NaN  \n",
       "1              NaN        NaN                        NaN  \n",
       "2              NaN        NaN                        NaN  \n",
       "3              NaN        NaN                        NaN  \n",
       "4              NaN        NaN                        NaN  \n",
       "..             ...        ...                        ...  \n",
       "94  WHITE HISPANIC         70                 ANTI-ASIAN  \n",
       "95  WHITE HISPANIC         70                 ANTI-BLACK  \n",
       "96  WHITE HISPANIC         70  ANTI-MALE HOMOSEXUAL(GAY)  \n",
       "97  WHITE HISPANIC         70                 ANTI-WHITE  \n",
       "98  WHITE HISPANIC         70                 ANTI-WHITE  \n",
       "\n",
       "[99 rows x 6 columns]"
      ]
     },
     "execution_count": 2,
     "metadata": {},
     "output_type": "execute_result"
    }
   ],
   "source": [
    "df = pd.read_csv(\"hate-crime-arrests-by-motivation-annual-2020.csv\")\n",
    "df"
   ]
  },
  {
   "cell_type": "markdown",
   "id": "acquired-rolling",
   "metadata": {},
   "source": [
    "#### Analyzing our dataframe we can see that there are many null values that appear in our dataframe. "
   ]
  },
  {
   "cell_type": "code",
   "execution_count": 3,
   "id": "auburn-smile",
   "metadata": {},
   "outputs": [
    {
     "name": "stdout",
     "output_type": "stream",
     "text": [
      "<class 'pandas.core.frame.DataFrame'>\n",
      "RangeIndex: 99 entries, 0 to 98\n",
      "Data columns (total 6 columns):\n",
      " #   Column      Non-Null Count  Dtype \n",
      "---  ------      --------------  ----- \n",
      " 0   Unnamed: 0  98 non-null     object\n",
      " 1   Unnamed: 1  94 non-null     object\n",
      " 2   Unnamed: 2  94 non-null     object\n",
      " 3   Unnamed: 3  94 non-null     object\n",
      " 4   Unnamed: 4  94 non-null     object\n",
      " 5   Unnamed: 5  94 non-null     object\n",
      "dtypes: object(6)\n",
      "memory usage: 4.8+ KB\n"
     ]
    }
   ],
   "source": [
    "df.info()"
   ]
  },
  {
   "cell_type": "markdown",
   "id": "exceptional-sculpture",
   "metadata": {},
   "source": [
    "#### All the null values are represented in the first columns in which we are not using therefore we can eliminate these values. "
   ]
  },
  {
   "cell_type": "code",
   "execution_count": 4,
   "id": "returning-buddy",
   "metadata": {},
   "outputs": [
    {
     "data": {
      "text/plain": [
       "Unnamed: 0    1\n",
       "Unnamed: 1    5\n",
       "Unnamed: 2    5\n",
       "Unnamed: 3    5\n",
       "Unnamed: 4    5\n",
       "Unnamed: 5    5\n",
       "dtype: int64"
      ]
     },
     "execution_count": 4,
     "metadata": {},
     "output_type": "execute_result"
    }
   ],
   "source": [
    "df.isna().sum()"
   ]
  },
  {
   "cell_type": "code",
   "execution_count": 5,
   "id": "prostate-audience",
   "metadata": {},
   "outputs": [],
   "source": [
    "df = df.drop([0,1,2,3,4,5])"
   ]
  },
  {
   "cell_type": "markdown",
   "id": "southwest-savage",
   "metadata": {},
   "source": [
    "#### Now we have dropped the null values so we can re-arrange our dataframe in a manner that is convivemy for our report "
   ]
  },
  {
   "cell_type": "code",
   "execution_count": 6,
   "id": "sixth-wound",
   "metadata": {},
   "outputs": [
    {
     "data": {
      "text/html": [
       "<div>\n",
       "<style scoped>\n",
       "    .dataframe tbody tr th:only-of-type {\n",
       "        vertical-align: middle;\n",
       "    }\n",
       "\n",
       "    .dataframe tbody tr th {\n",
       "        vertical-align: top;\n",
       "    }\n",
       "\n",
       "    .dataframe thead th {\n",
       "        text-align: right;\n",
       "    }\n",
       "</style>\n",
       "<table border=\"1\" class=\"dataframe\">\n",
       "  <thead>\n",
       "    <tr style=\"text-align: right;\">\n",
       "      <th></th>\n",
       "      <th>Unnamed: 0</th>\n",
       "      <th>Unnamed: 1</th>\n",
       "      <th>Unnamed: 2</th>\n",
       "      <th>Unnamed: 3</th>\n",
       "      <th>Unnamed: 4</th>\n",
       "      <th>Unnamed: 5</th>\n",
       "    </tr>\n",
       "  </thead>\n",
       "  <tbody>\n",
       "    <tr>\n",
       "      <th>6</th>\n",
       "      <td>1</td>\n",
       "      <td>005</td>\n",
       "      <td>MALE</td>\n",
       "      <td>BLACK HISPANIC</td>\n",
       "      <td>38</td>\n",
       "      <td>ANTI-ASIAN</td>\n",
       "    </tr>\n",
       "    <tr>\n",
       "      <th>7</th>\n",
       "      <td>2</td>\n",
       "      <td>005</td>\n",
       "      <td>MALE</td>\n",
       "      <td>WHITE</td>\n",
       "      <td>32</td>\n",
       "      <td>ANTI-JEWISH</td>\n",
       "    </tr>\n",
       "    <tr>\n",
       "      <th>8</th>\n",
       "      <td>3</td>\n",
       "      <td>006</td>\n",
       "      <td>MALE</td>\n",
       "      <td>BLACK</td>\n",
       "      <td>38</td>\n",
       "      <td>ANTI-ASIAN</td>\n",
       "    </tr>\n",
       "    <tr>\n",
       "      <th>9</th>\n",
       "      <td>4</td>\n",
       "      <td>006</td>\n",
       "      <td>MALE</td>\n",
       "      <td>BLACK</td>\n",
       "      <td>37</td>\n",
       "      <td>ANTI-MALE HOMOSEXUAL(GAY)</td>\n",
       "    </tr>\n",
       "    <tr>\n",
       "      <th>10</th>\n",
       "      <td>5</td>\n",
       "      <td>007</td>\n",
       "      <td>FEMALE</td>\n",
       "      <td>BLACK</td>\n",
       "      <td>50</td>\n",
       "      <td>ANTI-ASIAN</td>\n",
       "    </tr>\n",
       "    <tr>\n",
       "      <th>...</th>\n",
       "      <td>...</td>\n",
       "      <td>...</td>\n",
       "      <td>...</td>\n",
       "      <td>...</td>\n",
       "      <td>...</td>\n",
       "      <td>...</td>\n",
       "    </tr>\n",
       "    <tr>\n",
       "      <th>94</th>\n",
       "      <td>89</td>\n",
       "      <td>120</td>\n",
       "      <td>FEMALE</td>\n",
       "      <td>WHITE HISPANIC</td>\n",
       "      <td>70</td>\n",
       "      <td>ANTI-ASIAN</td>\n",
       "    </tr>\n",
       "    <tr>\n",
       "      <th>95</th>\n",
       "      <td>90</td>\n",
       "      <td>120</td>\n",
       "      <td>FEMALE</td>\n",
       "      <td>WHITE HISPANIC</td>\n",
       "      <td>70</td>\n",
       "      <td>ANTI-BLACK</td>\n",
       "    </tr>\n",
       "    <tr>\n",
       "      <th>96</th>\n",
       "      <td>91</td>\n",
       "      <td>120</td>\n",
       "      <td>FEMALE</td>\n",
       "      <td>WHITE HISPANIC</td>\n",
       "      <td>70</td>\n",
       "      <td>ANTI-MALE HOMOSEXUAL(GAY)</td>\n",
       "    </tr>\n",
       "    <tr>\n",
       "      <th>97</th>\n",
       "      <td>92</td>\n",
       "      <td>120</td>\n",
       "      <td>FEMALE</td>\n",
       "      <td>WHITE HISPANIC</td>\n",
       "      <td>70</td>\n",
       "      <td>ANTI-WHITE</td>\n",
       "    </tr>\n",
       "    <tr>\n",
       "      <th>98</th>\n",
       "      <td>93</td>\n",
       "      <td>120</td>\n",
       "      <td>FEMALE</td>\n",
       "      <td>WHITE HISPANIC</td>\n",
       "      <td>70</td>\n",
       "      <td>ANTI-WHITE</td>\n",
       "    </tr>\n",
       "  </tbody>\n",
       "</table>\n",
       "<p>93 rows × 6 columns</p>\n",
       "</div>"
      ],
      "text/plain": [
       "   Unnamed: 0 Unnamed: 1 Unnamed: 2      Unnamed: 3 Unnamed: 4  \\\n",
       "6           1        005       MALE  BLACK HISPANIC         38   \n",
       "7           2        005       MALE           WHITE         32   \n",
       "8           3        006       MALE           BLACK         38   \n",
       "9           4        006       MALE           BLACK         37   \n",
       "10          5        007     FEMALE           BLACK         50   \n",
       "..        ...        ...        ...             ...        ...   \n",
       "94         89        120     FEMALE  WHITE HISPANIC         70   \n",
       "95         90        120     FEMALE  WHITE HISPANIC         70   \n",
       "96         91        120     FEMALE  WHITE HISPANIC         70   \n",
       "97         92        120     FEMALE  WHITE HISPANIC         70   \n",
       "98         93        120     FEMALE  WHITE HISPANIC         70   \n",
       "\n",
       "                   Unnamed: 5  \n",
       "6                  ANTI-ASIAN  \n",
       "7                 ANTI-JEWISH  \n",
       "8                  ANTI-ASIAN  \n",
       "9   ANTI-MALE HOMOSEXUAL(GAY)  \n",
       "10                 ANTI-ASIAN  \n",
       "..                        ...  \n",
       "94                 ANTI-ASIAN  \n",
       "95                 ANTI-BLACK  \n",
       "96  ANTI-MALE HOMOSEXUAL(GAY)  \n",
       "97                 ANTI-WHITE  \n",
       "98                 ANTI-WHITE  \n",
       "\n",
       "[93 rows x 6 columns]"
      ]
     },
     "execution_count": 6,
     "metadata": {},
     "output_type": "execute_result"
    }
   ],
   "source": [
    "df"
   ]
  },
  {
   "cell_type": "markdown",
   "id": "unnecessary-granny",
   "metadata": {},
   "source": [
    "#### We are renaming our columns so we can work with them more appropiately to identify the bias-motivations."
   ]
  },
  {
   "cell_type": "code",
   "execution_count": 8,
   "id": "protective-praise",
   "metadata": {},
   "outputs": [],
   "source": [
    "df = df.rename(columns={\"Unnamed: 0\": \"Index\", \"Unnamed: 1\":\"Precinct\", \"Unnamed: 2\":\"Gender\",\n",
    "                  \"Unnamed: 3\":\"Race\", \"Unnamed: 4\":\"Age\",\"Unnamed: 5\":\"Bias-Motivation\"})"
   ]
  },
  {
   "cell_type": "code",
   "execution_count": 9,
   "id": "explicit-stage",
   "metadata": {},
   "outputs": [
    {
     "data": {
      "text/html": [
       "<div>\n",
       "<style scoped>\n",
       "    .dataframe tbody tr th:only-of-type {\n",
       "        vertical-align: middle;\n",
       "    }\n",
       "\n",
       "    .dataframe tbody tr th {\n",
       "        vertical-align: top;\n",
       "    }\n",
       "\n",
       "    .dataframe thead th {\n",
       "        text-align: right;\n",
       "    }\n",
       "</style>\n",
       "<table border=\"1\" class=\"dataframe\">\n",
       "  <thead>\n",
       "    <tr style=\"text-align: right;\">\n",
       "      <th></th>\n",
       "      <th>Index</th>\n",
       "      <th>Precinct</th>\n",
       "      <th>Gender</th>\n",
       "      <th>Race</th>\n",
       "      <th>Age</th>\n",
       "      <th>Bias-Motivation</th>\n",
       "    </tr>\n",
       "  </thead>\n",
       "  <tbody>\n",
       "    <tr>\n",
       "      <th>6</th>\n",
       "      <td>1</td>\n",
       "      <td>005</td>\n",
       "      <td>MALE</td>\n",
       "      <td>BLACK HISPANIC</td>\n",
       "      <td>38</td>\n",
       "      <td>ANTI-ASIAN</td>\n",
       "    </tr>\n",
       "    <tr>\n",
       "      <th>7</th>\n",
       "      <td>2</td>\n",
       "      <td>005</td>\n",
       "      <td>MALE</td>\n",
       "      <td>WHITE</td>\n",
       "      <td>32</td>\n",
       "      <td>ANTI-JEWISH</td>\n",
       "    </tr>\n",
       "    <tr>\n",
       "      <th>8</th>\n",
       "      <td>3</td>\n",
       "      <td>006</td>\n",
       "      <td>MALE</td>\n",
       "      <td>BLACK</td>\n",
       "      <td>38</td>\n",
       "      <td>ANTI-ASIAN</td>\n",
       "    </tr>\n",
       "    <tr>\n",
       "      <th>9</th>\n",
       "      <td>4</td>\n",
       "      <td>006</td>\n",
       "      <td>MALE</td>\n",
       "      <td>BLACK</td>\n",
       "      <td>37</td>\n",
       "      <td>ANTI-MALE HOMOSEXUAL(GAY)</td>\n",
       "    </tr>\n",
       "    <tr>\n",
       "      <th>10</th>\n",
       "      <td>5</td>\n",
       "      <td>007</td>\n",
       "      <td>FEMALE</td>\n",
       "      <td>BLACK</td>\n",
       "      <td>50</td>\n",
       "      <td>ANTI-ASIAN</td>\n",
       "    </tr>\n",
       "    <tr>\n",
       "      <th>...</th>\n",
       "      <td>...</td>\n",
       "      <td>...</td>\n",
       "      <td>...</td>\n",
       "      <td>...</td>\n",
       "      <td>...</td>\n",
       "      <td>...</td>\n",
       "    </tr>\n",
       "    <tr>\n",
       "      <th>94</th>\n",
       "      <td>89</td>\n",
       "      <td>120</td>\n",
       "      <td>FEMALE</td>\n",
       "      <td>WHITE HISPANIC</td>\n",
       "      <td>70</td>\n",
       "      <td>ANTI-ASIAN</td>\n",
       "    </tr>\n",
       "    <tr>\n",
       "      <th>95</th>\n",
       "      <td>90</td>\n",
       "      <td>120</td>\n",
       "      <td>FEMALE</td>\n",
       "      <td>WHITE HISPANIC</td>\n",
       "      <td>70</td>\n",
       "      <td>ANTI-BLACK</td>\n",
       "    </tr>\n",
       "    <tr>\n",
       "      <th>96</th>\n",
       "      <td>91</td>\n",
       "      <td>120</td>\n",
       "      <td>FEMALE</td>\n",
       "      <td>WHITE HISPANIC</td>\n",
       "      <td>70</td>\n",
       "      <td>ANTI-MALE HOMOSEXUAL(GAY)</td>\n",
       "    </tr>\n",
       "    <tr>\n",
       "      <th>97</th>\n",
       "      <td>92</td>\n",
       "      <td>120</td>\n",
       "      <td>FEMALE</td>\n",
       "      <td>WHITE HISPANIC</td>\n",
       "      <td>70</td>\n",
       "      <td>ANTI-WHITE</td>\n",
       "    </tr>\n",
       "    <tr>\n",
       "      <th>98</th>\n",
       "      <td>93</td>\n",
       "      <td>120</td>\n",
       "      <td>FEMALE</td>\n",
       "      <td>WHITE HISPANIC</td>\n",
       "      <td>70</td>\n",
       "      <td>ANTI-WHITE</td>\n",
       "    </tr>\n",
       "  </tbody>\n",
       "</table>\n",
       "<p>93 rows × 6 columns</p>\n",
       "</div>"
      ],
      "text/plain": [
       "   Index Precinct  Gender            Race Age            Bias-Motivation\n",
       "6      1      005    MALE  BLACK HISPANIC  38                 ANTI-ASIAN\n",
       "7      2      005    MALE           WHITE  32                ANTI-JEWISH\n",
       "8      3      006    MALE           BLACK  38                 ANTI-ASIAN\n",
       "9      4      006    MALE           BLACK  37  ANTI-MALE HOMOSEXUAL(GAY)\n",
       "10     5      007  FEMALE           BLACK  50                 ANTI-ASIAN\n",
       "..   ...      ...     ...             ...  ..                        ...\n",
       "94    89      120  FEMALE  WHITE HISPANIC  70                 ANTI-ASIAN\n",
       "95    90      120  FEMALE  WHITE HISPANIC  70                 ANTI-BLACK\n",
       "96    91      120  FEMALE  WHITE HISPANIC  70  ANTI-MALE HOMOSEXUAL(GAY)\n",
       "97    92      120  FEMALE  WHITE HISPANIC  70                 ANTI-WHITE\n",
       "98    93      120  FEMALE  WHITE HISPANIC  70                 ANTI-WHITE\n",
       "\n",
       "[93 rows x 6 columns]"
      ]
     },
     "execution_count": 9,
     "metadata": {},
     "output_type": "execute_result"
    }
   ],
   "source": [
    "df "
   ]
  },
  {
   "cell_type": "markdown",
   "id": "equipped-marshall",
   "metadata": {},
   "source": [
    "#### In order to analyze trends and differences in the hate crime data within 2019 and 2020 we are going to group the Bias-Motivations into a specific category. Therefore we need to analyze all values in this column. "
   ]
  },
  {
   "cell_type": "code",
   "execution_count": 10,
   "id": "vanilla-pharmacology",
   "metadata": {},
   "outputs": [
    {
     "data": {
      "text/plain": [
       "array(['ANTI-ASIAN', 'ANTI-JEWISH', 'ANTI-ASIAN',\n",
       "       'ANTI-MALE HOMOSEXUAL(GAY)', 'ANTI-ASIAN', 'ANTI-JEWISH',\n",
       "       'ANTI-LGBT(MIXED GROUP)', 'ANTI-WHITE', 'OTHER', 'ANTI-BLACK',\n",
       "       'ANTI-ASIAN', 'ANTI-MALE HOMOSEXUAL(GAY)',\n",
       "       'ANTI-MALE HOMOSEXUAL(GAY)', 'ANTI-ASIAN', 'ANTI-JEWISH',\n",
       "       'ANTI-MALE HOMOSEXUAL(GAY)', 'ANTI-JEWISH', 'ANTI-ASIAN',\n",
       "       'ANTI-ASIAN', 'ANTI-BLACK', 'ANTI-ASIAN', 'ANTI-LGBT(MIXED GROUP)',\n",
       "       'ANTI-WHITE', 'ANTI-ASIAN', 'ANTI-MALE HOMOSEXUAL(GAY)',\n",
       "       'ANTI-MALE HOMOSEXUAL(GAY)', 'ANTI-ASIAN', 'ANTI-ASIAN',\n",
       "       'ANTI-ASIAN', 'ANTI-MALE HOMOSEXUAL(GAY)', 'ANTI-ASIAN',\n",
       "       'ANTI-MALE HOMOSEXUAL(GAY)', 'ANTI-BLACK', 'ANTI-JEWISH',\n",
       "       'ANTI-FEMALE', 'ANTI-FEMALE', 'ANTI-FEMALE', 'ANTI-FEMALE',\n",
       "       'ANTI-JEWISH', 'ANTI-MALE HOMOSEXUAL(GAY)', 'ANTI-JEWISH',\n",
       "       'ANTI-JEWISH', 'ANTI-JEWISH', 'ANTI-JEWISH', 'ANTI-JEWISH',\n",
       "       'ANTI-ASIAN', 'ANTI-JEWISH', 'ANTI-GENDER NON CONFORMING',\n",
       "       'ANTI-JEWISH', 'ANTI-JEWISH', 'ANTI-JEWISH', 'ANTI-JEWISH',\n",
       "       'ANTI-TRANSGENDER', 'ANTI-ASIAN', 'OTHER', 'ANTI-JEWISH',\n",
       "       'ANTI-JEWISH', 'ANTI-ASIAN', 'ANTI-ASIAN', 'ANTI-JEWISH',\n",
       "       'ANTI-OTHER ETHNICITY', 'ANTI-JEWISH', 'ANTI-JEWISH',\n",
       "       'ANTI-JEWISH', 'ANTI-JEWISH', 'ANTI-JEWISH', 'ANTI-JEWISH',\n",
       "       'ANTI-WHITE', 'ANTI-MALE HOMOSEXUAL(GAY)',\n",
       "       'ANTI-MALE HOMOSEXUAL(GAY)', 'ANTI-MALE HOMOSEXUAL(GAY)',\n",
       "       'ANTI-MALE HOMOSEXUAL(GAY)', 'ANTI-BLACK',\n",
       "       'ANTI-MALE HOMOSEXUAL(GAY)', 'ANTI-MALE HOMOSEXUAL(GAY)',\n",
       "       'ANTI-MALE HOMOSEXUAL(GAY)', 'ANTI-MALE HOMOSEXUAL(GAY)',\n",
       "       'ANTI-MALE HOMOSEXUAL(GAY)', 'ANTI-BLACK', 'ANTI-HINDU',\n",
       "       'ANTI-TRANSGENDER', 'ANTI-ASIAN', 'ANTI-ASIAN',\n",
       "       'ANTI-ISLAMIC(MUSLIM)', 'ANTI-MALE HOMOSEXUAL(GAY)', 'ANTI-BLACK',\n",
       "       'ANTI-ISLAMIC(MUSLIM)', '60 YEARS OLD OR MORE', 'ANTI-ASIAN',\n",
       "       'ANTI-BLACK', 'ANTI-MALE HOMOSEXUAL(GAY)', 'ANTI-WHITE',\n",
       "       'ANTI-WHITE'], dtype=object)"
      ]
     },
     "execution_count": 10,
     "metadata": {},
     "output_type": "execute_result"
    }
   ],
   "source": [
    "df['Bias-Motivation'].values"
   ]
  },
  {
   "cell_type": "markdown",
   "id": "rental-marriage",
   "metadata": {},
   "source": [
    "#### We are going to store these values in a dictionary with the appropiate group that is associated with the Bias-Motivation"
   ]
  },
  {
   "cell_type": "code",
   "execution_count": 11,
   "id": "parallel-parker",
   "metadata": {},
   "outputs": [],
   "source": [
    "Group = {'ANTI-ASIAN':'Anti-Ethnicity',\n",
    "         'ANTI-WHITE':'Anti-Ethnicity',\n",
    "         'ANTI-BLACK':'Anti-Ethnicity',\n",
    "         '60 YEARS OLD OR MORE':'Anti-Age',\n",
    "         'ANTI-JEWISH':'Anti-Religion',\n",
    "         'ANTI-ISLAMIC(MUSLIM)':'Anti-Religion',\n",
    "         'ANTI-MALE HOMOSEXUAL(GAY)':'Anti-LGBTQ',\n",
    "         'ANTI-LGBT(MIXED GROUP)':'Anti-LGBTQ',\n",
    "         'ANTI-TRANSGENDER':'Anti-LGBTQ',\n",
    "         'ANTI-FEMALE':'Anti-LGBTQ',\n",
    "         'OTHER':'Other',\n",
    "         'NON CONFORMING':'Other'\n",
    "        }"
   ]
  },
  {
   "cell_type": "markdown",
   "id": "eastern-basketball",
   "metadata": {},
   "source": [
    "#### Now we are copying our original dataframe to make new edits to our new dataframe"
   ]
  },
  {
   "cell_type": "code",
   "execution_count": 12,
   "id": "historical-trace",
   "metadata": {},
   "outputs": [],
   "source": [
    "twentytwenty_hate = df.copy()"
   ]
  },
  {
   "cell_type": "code",
   "execution_count": 13,
   "id": "advance-blanket",
   "metadata": {},
   "outputs": [
    {
     "data": {
      "text/html": [
       "<div>\n",
       "<style scoped>\n",
       "    .dataframe tbody tr th:only-of-type {\n",
       "        vertical-align: middle;\n",
       "    }\n",
       "\n",
       "    .dataframe tbody tr th {\n",
       "        vertical-align: top;\n",
       "    }\n",
       "\n",
       "    .dataframe thead th {\n",
       "        text-align: right;\n",
       "    }\n",
       "</style>\n",
       "<table border=\"1\" class=\"dataframe\">\n",
       "  <thead>\n",
       "    <tr style=\"text-align: right;\">\n",
       "      <th></th>\n",
       "      <th>Index</th>\n",
       "      <th>Precinct</th>\n",
       "      <th>Gender</th>\n",
       "      <th>Race</th>\n",
       "      <th>Age</th>\n",
       "      <th>Bias-Motivation</th>\n",
       "    </tr>\n",
       "  </thead>\n",
       "  <tbody>\n",
       "    <tr>\n",
       "      <th>6</th>\n",
       "      <td>1</td>\n",
       "      <td>005</td>\n",
       "      <td>MALE</td>\n",
       "      <td>BLACK HISPANIC</td>\n",
       "      <td>38</td>\n",
       "      <td>ANTI-ASIAN</td>\n",
       "    </tr>\n",
       "    <tr>\n",
       "      <th>7</th>\n",
       "      <td>2</td>\n",
       "      <td>005</td>\n",
       "      <td>MALE</td>\n",
       "      <td>WHITE</td>\n",
       "      <td>32</td>\n",
       "      <td>ANTI-JEWISH</td>\n",
       "    </tr>\n",
       "    <tr>\n",
       "      <th>8</th>\n",
       "      <td>3</td>\n",
       "      <td>006</td>\n",
       "      <td>MALE</td>\n",
       "      <td>BLACK</td>\n",
       "      <td>38</td>\n",
       "      <td>ANTI-ASIAN</td>\n",
       "    </tr>\n",
       "    <tr>\n",
       "      <th>9</th>\n",
       "      <td>4</td>\n",
       "      <td>006</td>\n",
       "      <td>MALE</td>\n",
       "      <td>BLACK</td>\n",
       "      <td>37</td>\n",
       "      <td>ANTI-MALE HOMOSEXUAL(GAY)</td>\n",
       "    </tr>\n",
       "    <tr>\n",
       "      <th>10</th>\n",
       "      <td>5</td>\n",
       "      <td>007</td>\n",
       "      <td>FEMALE</td>\n",
       "      <td>BLACK</td>\n",
       "      <td>50</td>\n",
       "      <td>ANTI-ASIAN</td>\n",
       "    </tr>\n",
       "    <tr>\n",
       "      <th>...</th>\n",
       "      <td>...</td>\n",
       "      <td>...</td>\n",
       "      <td>...</td>\n",
       "      <td>...</td>\n",
       "      <td>...</td>\n",
       "      <td>...</td>\n",
       "    </tr>\n",
       "    <tr>\n",
       "      <th>94</th>\n",
       "      <td>89</td>\n",
       "      <td>120</td>\n",
       "      <td>FEMALE</td>\n",
       "      <td>WHITE HISPANIC</td>\n",
       "      <td>70</td>\n",
       "      <td>ANTI-ASIAN</td>\n",
       "    </tr>\n",
       "    <tr>\n",
       "      <th>95</th>\n",
       "      <td>90</td>\n",
       "      <td>120</td>\n",
       "      <td>FEMALE</td>\n",
       "      <td>WHITE HISPANIC</td>\n",
       "      <td>70</td>\n",
       "      <td>ANTI-BLACK</td>\n",
       "    </tr>\n",
       "    <tr>\n",
       "      <th>96</th>\n",
       "      <td>91</td>\n",
       "      <td>120</td>\n",
       "      <td>FEMALE</td>\n",
       "      <td>WHITE HISPANIC</td>\n",
       "      <td>70</td>\n",
       "      <td>ANTI-MALE HOMOSEXUAL(GAY)</td>\n",
       "    </tr>\n",
       "    <tr>\n",
       "      <th>97</th>\n",
       "      <td>92</td>\n",
       "      <td>120</td>\n",
       "      <td>FEMALE</td>\n",
       "      <td>WHITE HISPANIC</td>\n",
       "      <td>70</td>\n",
       "      <td>ANTI-WHITE</td>\n",
       "    </tr>\n",
       "    <tr>\n",
       "      <th>98</th>\n",
       "      <td>93</td>\n",
       "      <td>120</td>\n",
       "      <td>FEMALE</td>\n",
       "      <td>WHITE HISPANIC</td>\n",
       "      <td>70</td>\n",
       "      <td>ANTI-WHITE</td>\n",
       "    </tr>\n",
       "  </tbody>\n",
       "</table>\n",
       "<p>93 rows × 6 columns</p>\n",
       "</div>"
      ],
      "text/plain": [
       "   Index Precinct  Gender            Race Age            Bias-Motivation\n",
       "6      1      005    MALE  BLACK HISPANIC  38                 ANTI-ASIAN\n",
       "7      2      005    MALE           WHITE  32                ANTI-JEWISH\n",
       "8      3      006    MALE           BLACK  38                 ANTI-ASIAN\n",
       "9      4      006    MALE           BLACK  37  ANTI-MALE HOMOSEXUAL(GAY)\n",
       "10     5      007  FEMALE           BLACK  50                 ANTI-ASIAN\n",
       "..   ...      ...     ...             ...  ..                        ...\n",
       "94    89      120  FEMALE  WHITE HISPANIC  70                 ANTI-ASIAN\n",
       "95    90      120  FEMALE  WHITE HISPANIC  70                 ANTI-BLACK\n",
       "96    91      120  FEMALE  WHITE HISPANIC  70  ANTI-MALE HOMOSEXUAL(GAY)\n",
       "97    92      120  FEMALE  WHITE HISPANIC  70                 ANTI-WHITE\n",
       "98    93      120  FEMALE  WHITE HISPANIC  70                 ANTI-WHITE\n",
       "\n",
       "[93 rows x 6 columns]"
      ]
     },
     "execution_count": 13,
     "metadata": {},
     "output_type": "execute_result"
    }
   ],
   "source": [
    "twentytwenty_hate"
   ]
  },
  {
   "cell_type": "markdown",
   "id": "optional-settle",
   "metadata": {},
   "source": [
    "#### Using our dictionary we are placing these values into a new column which we use later on."
   ]
  },
  {
   "cell_type": "code",
   "execution_count": 14,
   "id": "equipped-christopher",
   "metadata": {},
   "outputs": [],
   "source": [
    "twentytwenty_hate['Categories'] = twentytwenty_hate['Bias-Motivation'].map(Group)"
   ]
  },
  {
   "cell_type": "code",
   "execution_count": 15,
   "id": "fresh-sample",
   "metadata": {},
   "outputs": [
    {
     "data": {
      "text/html": [
       "<div>\n",
       "<style scoped>\n",
       "    .dataframe tbody tr th:only-of-type {\n",
       "        vertical-align: middle;\n",
       "    }\n",
       "\n",
       "    .dataframe tbody tr th {\n",
       "        vertical-align: top;\n",
       "    }\n",
       "\n",
       "    .dataframe thead th {\n",
       "        text-align: right;\n",
       "    }\n",
       "</style>\n",
       "<table border=\"1\" class=\"dataframe\">\n",
       "  <thead>\n",
       "    <tr style=\"text-align: right;\">\n",
       "      <th></th>\n",
       "      <th>Index</th>\n",
       "      <th>Precinct</th>\n",
       "      <th>Gender</th>\n",
       "      <th>Race</th>\n",
       "      <th>Age</th>\n",
       "      <th>Bias-Motivation</th>\n",
       "      <th>Categories</th>\n",
       "    </tr>\n",
       "  </thead>\n",
       "  <tbody>\n",
       "    <tr>\n",
       "      <th>6</th>\n",
       "      <td>1</td>\n",
       "      <td>005</td>\n",
       "      <td>MALE</td>\n",
       "      <td>BLACK HISPANIC</td>\n",
       "      <td>38</td>\n",
       "      <td>ANTI-ASIAN</td>\n",
       "      <td>Anti-Ethnicity</td>\n",
       "    </tr>\n",
       "    <tr>\n",
       "      <th>7</th>\n",
       "      <td>2</td>\n",
       "      <td>005</td>\n",
       "      <td>MALE</td>\n",
       "      <td>WHITE</td>\n",
       "      <td>32</td>\n",
       "      <td>ANTI-JEWISH</td>\n",
       "      <td>Anti-Religion</td>\n",
       "    </tr>\n",
       "    <tr>\n",
       "      <th>8</th>\n",
       "      <td>3</td>\n",
       "      <td>006</td>\n",
       "      <td>MALE</td>\n",
       "      <td>BLACK</td>\n",
       "      <td>38</td>\n",
       "      <td>ANTI-ASIAN</td>\n",
       "      <td>Anti-Ethnicity</td>\n",
       "    </tr>\n",
       "    <tr>\n",
       "      <th>9</th>\n",
       "      <td>4</td>\n",
       "      <td>006</td>\n",
       "      <td>MALE</td>\n",
       "      <td>BLACK</td>\n",
       "      <td>37</td>\n",
       "      <td>ANTI-MALE HOMOSEXUAL(GAY)</td>\n",
       "      <td>Anti-LGBTQ</td>\n",
       "    </tr>\n",
       "    <tr>\n",
       "      <th>10</th>\n",
       "      <td>5</td>\n",
       "      <td>007</td>\n",
       "      <td>FEMALE</td>\n",
       "      <td>BLACK</td>\n",
       "      <td>50</td>\n",
       "      <td>ANTI-ASIAN</td>\n",
       "      <td>Anti-Ethnicity</td>\n",
       "    </tr>\n",
       "    <tr>\n",
       "      <th>...</th>\n",
       "      <td>...</td>\n",
       "      <td>...</td>\n",
       "      <td>...</td>\n",
       "      <td>...</td>\n",
       "      <td>...</td>\n",
       "      <td>...</td>\n",
       "      <td>...</td>\n",
       "    </tr>\n",
       "    <tr>\n",
       "      <th>94</th>\n",
       "      <td>89</td>\n",
       "      <td>120</td>\n",
       "      <td>FEMALE</td>\n",
       "      <td>WHITE HISPANIC</td>\n",
       "      <td>70</td>\n",
       "      <td>ANTI-ASIAN</td>\n",
       "      <td>Anti-Ethnicity</td>\n",
       "    </tr>\n",
       "    <tr>\n",
       "      <th>95</th>\n",
       "      <td>90</td>\n",
       "      <td>120</td>\n",
       "      <td>FEMALE</td>\n",
       "      <td>WHITE HISPANIC</td>\n",
       "      <td>70</td>\n",
       "      <td>ANTI-BLACK</td>\n",
       "      <td>Anti-Ethnicity</td>\n",
       "    </tr>\n",
       "    <tr>\n",
       "      <th>96</th>\n",
       "      <td>91</td>\n",
       "      <td>120</td>\n",
       "      <td>FEMALE</td>\n",
       "      <td>WHITE HISPANIC</td>\n",
       "      <td>70</td>\n",
       "      <td>ANTI-MALE HOMOSEXUAL(GAY)</td>\n",
       "      <td>Anti-LGBTQ</td>\n",
       "    </tr>\n",
       "    <tr>\n",
       "      <th>97</th>\n",
       "      <td>92</td>\n",
       "      <td>120</td>\n",
       "      <td>FEMALE</td>\n",
       "      <td>WHITE HISPANIC</td>\n",
       "      <td>70</td>\n",
       "      <td>ANTI-WHITE</td>\n",
       "      <td>Anti-Ethnicity</td>\n",
       "    </tr>\n",
       "    <tr>\n",
       "      <th>98</th>\n",
       "      <td>93</td>\n",
       "      <td>120</td>\n",
       "      <td>FEMALE</td>\n",
       "      <td>WHITE HISPANIC</td>\n",
       "      <td>70</td>\n",
       "      <td>ANTI-WHITE</td>\n",
       "      <td>Anti-Ethnicity</td>\n",
       "    </tr>\n",
       "  </tbody>\n",
       "</table>\n",
       "<p>93 rows × 7 columns</p>\n",
       "</div>"
      ],
      "text/plain": [
       "   Index Precinct  Gender            Race Age            Bias-Motivation  \\\n",
       "6      1      005    MALE  BLACK HISPANIC  38                 ANTI-ASIAN   \n",
       "7      2      005    MALE           WHITE  32                ANTI-JEWISH   \n",
       "8      3      006    MALE           BLACK  38                 ANTI-ASIAN   \n",
       "9      4      006    MALE           BLACK  37  ANTI-MALE HOMOSEXUAL(GAY)   \n",
       "10     5      007  FEMALE           BLACK  50                 ANTI-ASIAN   \n",
       "..   ...      ...     ...             ...  ..                        ...   \n",
       "94    89      120  FEMALE  WHITE HISPANIC  70                 ANTI-ASIAN   \n",
       "95    90      120  FEMALE  WHITE HISPANIC  70                 ANTI-BLACK   \n",
       "96    91      120  FEMALE  WHITE HISPANIC  70  ANTI-MALE HOMOSEXUAL(GAY)   \n",
       "97    92      120  FEMALE  WHITE HISPANIC  70                 ANTI-WHITE   \n",
       "98    93      120  FEMALE  WHITE HISPANIC  70                 ANTI-WHITE   \n",
       "\n",
       "        Categories  \n",
       "6   Anti-Ethnicity  \n",
       "7    Anti-Religion  \n",
       "8   Anti-Ethnicity  \n",
       "9       Anti-LGBTQ  \n",
       "10  Anti-Ethnicity  \n",
       "..             ...  \n",
       "94  Anti-Ethnicity  \n",
       "95  Anti-Ethnicity  \n",
       "96      Anti-LGBTQ  \n",
       "97  Anti-Ethnicity  \n",
       "98  Anti-Ethnicity  \n",
       "\n",
       "[93 rows x 7 columns]"
      ]
     },
     "execution_count": 15,
     "metadata": {},
     "output_type": "execute_result"
    }
   ],
   "source": [
    "twentytwenty_hate"
   ]
  },
  {
   "cell_type": "markdown",
   "id": "suffering-circulation",
   "metadata": {},
   "source": [
    "#### Now we are going to analyze the same with precinct as all precinct are identified with a Borough and can be grouped by a Borough."
   ]
  },
  {
   "cell_type": "code",
   "execution_count": 16,
   "id": "sharp-fairy",
   "metadata": {},
   "outputs": [
    {
     "data": {
      "text/plain": [
       "array(['005', '005', '006', '006', '007', '007', '007', '007', '007',\n",
       "       '009', '010', '010', '010', '013', '018', '018', '019', '023',\n",
       "       '023', '023', '028', '030', '032', '040', '040', '040', '044',\n",
       "       '044', '044', '044', '046', '048', '049', '049', '060', '060',\n",
       "       '060', '060', '060', '060', '061', '061', '061', '061', '061',\n",
       "       '066', '066', '067', '070', '070', '071', '072', '075', '078',\n",
       "       '079', '081', '081', '084', '084', '084', '084', '088', '090',\n",
       "       '090', '090', '090', '090', '094', '100', '100', '100', '100',\n",
       "       '101', '101', '102', '102', '102', '102', '107', '110', '111',\n",
       "       '112', '112', '112', '112', '114', '114', '115', '120', '120',\n",
       "       '120', '120', '120'], dtype=object)"
      ]
     },
     "execution_count": 16,
     "metadata": {},
     "output_type": "execute_result"
    }
   ],
   "source": [
    "twentytwenty_hate['Precinct'].values"
   ]
  },
  {
   "cell_type": "code",
   "execution_count": 18,
   "id": "hydraulic-cabin",
   "metadata": {},
   "outputs": [],
   "source": [
    "precinct_dictionary = {'120':'Staten Island',\n",
    "                       '005':'Manhattan',\n",
    "                       '006':'Manhattan',\n",
    "                       '007':'Manhattan',\n",
    "                       '009':'Manhattan',\n",
    "                       '010':'Manhattan',\n",
    "                       '013':'Manhattan',\n",
    "                       '023':'Manhattan',\n",
    "                       '028':'Manhattan',\n",
    "                       '040':'Bronx',\n",
    "                       '044':'Bronx',\n",
    "                       '046':'Bronx',\n",
    "                       '048':'Bronx',\n",
    "                       '049':'Bronx',\n",
    "                       '060':'Brooklyn',\n",
    "                       '061':'Brooklyn',\n",
    "                       '066':'Brooklyn',\n",
    "                       '067':'Brooklyn',\n",
    "                       '100':'Queens',\n",
    "                       '101':'Queens',\n",
    "                       '102':'Queens',\n",
    "                       '107':'Queens',\n",
    "                       '110':'Queens',\n",
    "                       '111':'Queens',\n",
    "                       '112':'Queens',\n",
    "                       '114':'Queens',\n",
    "                       '115':'Queens',\n",
    "                       '078':'Brooklyn',\n",
    "                       '084':'Brooklyn',\n",
    "                       'nan':'hello'}"
   ]
  },
  {
   "cell_type": "markdown",
   "id": "metric-semiconductor",
   "metadata": {},
   "source": [
    "#### Similar to earlier, we are going to make a new column in our dataframe that will create a Borough column.This makes it easier, rather than graphing by Precinct that contain multiple values we are only limiting it to 5 different boroughs."
   ]
  },
  {
   "cell_type": "code",
   "execution_count": 19,
   "id": "controlled-broadcasting",
   "metadata": {},
   "outputs": [],
   "source": [
    "twentytwenty_hate['Borough'] = twentytwenty_hate['Precinct'].map(precinct_dictionary)"
   ]
  },
  {
   "cell_type": "code",
   "execution_count": 20,
   "id": "solved-context",
   "metadata": {},
   "outputs": [
    {
     "data": {
      "text/html": [
       "<div>\n",
       "<style scoped>\n",
       "    .dataframe tbody tr th:only-of-type {\n",
       "        vertical-align: middle;\n",
       "    }\n",
       "\n",
       "    .dataframe tbody tr th {\n",
       "        vertical-align: top;\n",
       "    }\n",
       "\n",
       "    .dataframe thead th {\n",
       "        text-align: right;\n",
       "    }\n",
       "</style>\n",
       "<table border=\"1\" class=\"dataframe\">\n",
       "  <thead>\n",
       "    <tr style=\"text-align: right;\">\n",
       "      <th></th>\n",
       "      <th>Index</th>\n",
       "      <th>Precinct</th>\n",
       "      <th>Gender</th>\n",
       "      <th>Race</th>\n",
       "      <th>Age</th>\n",
       "      <th>Bias-Motivation</th>\n",
       "      <th>Categories</th>\n",
       "      <th>Borough</th>\n",
       "    </tr>\n",
       "  </thead>\n",
       "  <tbody>\n",
       "    <tr>\n",
       "      <th>6</th>\n",
       "      <td>1</td>\n",
       "      <td>005</td>\n",
       "      <td>MALE</td>\n",
       "      <td>BLACK HISPANIC</td>\n",
       "      <td>38</td>\n",
       "      <td>ANTI-ASIAN</td>\n",
       "      <td>Anti-Ethnicity</td>\n",
       "      <td>Manhattan</td>\n",
       "    </tr>\n",
       "    <tr>\n",
       "      <th>7</th>\n",
       "      <td>2</td>\n",
       "      <td>005</td>\n",
       "      <td>MALE</td>\n",
       "      <td>WHITE</td>\n",
       "      <td>32</td>\n",
       "      <td>ANTI-JEWISH</td>\n",
       "      <td>Anti-Religion</td>\n",
       "      <td>Manhattan</td>\n",
       "    </tr>\n",
       "    <tr>\n",
       "      <th>8</th>\n",
       "      <td>3</td>\n",
       "      <td>006</td>\n",
       "      <td>MALE</td>\n",
       "      <td>BLACK</td>\n",
       "      <td>38</td>\n",
       "      <td>ANTI-ASIAN</td>\n",
       "      <td>Anti-Ethnicity</td>\n",
       "      <td>Manhattan</td>\n",
       "    </tr>\n",
       "    <tr>\n",
       "      <th>9</th>\n",
       "      <td>4</td>\n",
       "      <td>006</td>\n",
       "      <td>MALE</td>\n",
       "      <td>BLACK</td>\n",
       "      <td>37</td>\n",
       "      <td>ANTI-MALE HOMOSEXUAL(GAY)</td>\n",
       "      <td>Anti-LGBTQ</td>\n",
       "      <td>Manhattan</td>\n",
       "    </tr>\n",
       "    <tr>\n",
       "      <th>10</th>\n",
       "      <td>5</td>\n",
       "      <td>007</td>\n",
       "      <td>FEMALE</td>\n",
       "      <td>BLACK</td>\n",
       "      <td>50</td>\n",
       "      <td>ANTI-ASIAN</td>\n",
       "      <td>Anti-Ethnicity</td>\n",
       "      <td>Manhattan</td>\n",
       "    </tr>\n",
       "    <tr>\n",
       "      <th>...</th>\n",
       "      <td>...</td>\n",
       "      <td>...</td>\n",
       "      <td>...</td>\n",
       "      <td>...</td>\n",
       "      <td>...</td>\n",
       "      <td>...</td>\n",
       "      <td>...</td>\n",
       "      <td>...</td>\n",
       "    </tr>\n",
       "    <tr>\n",
       "      <th>94</th>\n",
       "      <td>89</td>\n",
       "      <td>120</td>\n",
       "      <td>FEMALE</td>\n",
       "      <td>WHITE HISPANIC</td>\n",
       "      <td>70</td>\n",
       "      <td>ANTI-ASIAN</td>\n",
       "      <td>Anti-Ethnicity</td>\n",
       "      <td>Staten Island</td>\n",
       "    </tr>\n",
       "    <tr>\n",
       "      <th>95</th>\n",
       "      <td>90</td>\n",
       "      <td>120</td>\n",
       "      <td>FEMALE</td>\n",
       "      <td>WHITE HISPANIC</td>\n",
       "      <td>70</td>\n",
       "      <td>ANTI-BLACK</td>\n",
       "      <td>Anti-Ethnicity</td>\n",
       "      <td>Staten Island</td>\n",
       "    </tr>\n",
       "    <tr>\n",
       "      <th>96</th>\n",
       "      <td>91</td>\n",
       "      <td>120</td>\n",
       "      <td>FEMALE</td>\n",
       "      <td>WHITE HISPANIC</td>\n",
       "      <td>70</td>\n",
       "      <td>ANTI-MALE HOMOSEXUAL(GAY)</td>\n",
       "      <td>Anti-LGBTQ</td>\n",
       "      <td>Staten Island</td>\n",
       "    </tr>\n",
       "    <tr>\n",
       "      <th>97</th>\n",
       "      <td>92</td>\n",
       "      <td>120</td>\n",
       "      <td>FEMALE</td>\n",
       "      <td>WHITE HISPANIC</td>\n",
       "      <td>70</td>\n",
       "      <td>ANTI-WHITE</td>\n",
       "      <td>Anti-Ethnicity</td>\n",
       "      <td>Staten Island</td>\n",
       "    </tr>\n",
       "    <tr>\n",
       "      <th>98</th>\n",
       "      <td>93</td>\n",
       "      <td>120</td>\n",
       "      <td>FEMALE</td>\n",
       "      <td>WHITE HISPANIC</td>\n",
       "      <td>70</td>\n",
       "      <td>ANTI-WHITE</td>\n",
       "      <td>Anti-Ethnicity</td>\n",
       "      <td>Staten Island</td>\n",
       "    </tr>\n",
       "  </tbody>\n",
       "</table>\n",
       "<p>93 rows × 8 columns</p>\n",
       "</div>"
      ],
      "text/plain": [
       "   Index Precinct  Gender            Race Age            Bias-Motivation  \\\n",
       "6      1      005    MALE  BLACK HISPANIC  38                 ANTI-ASIAN   \n",
       "7      2      005    MALE           WHITE  32                ANTI-JEWISH   \n",
       "8      3      006    MALE           BLACK  38                 ANTI-ASIAN   \n",
       "9      4      006    MALE           BLACK  37  ANTI-MALE HOMOSEXUAL(GAY)   \n",
       "10     5      007  FEMALE           BLACK  50                 ANTI-ASIAN   \n",
       "..   ...      ...     ...             ...  ..                        ...   \n",
       "94    89      120  FEMALE  WHITE HISPANIC  70                 ANTI-ASIAN   \n",
       "95    90      120  FEMALE  WHITE HISPANIC  70                 ANTI-BLACK   \n",
       "96    91      120  FEMALE  WHITE HISPANIC  70  ANTI-MALE HOMOSEXUAL(GAY)   \n",
       "97    92      120  FEMALE  WHITE HISPANIC  70                 ANTI-WHITE   \n",
       "98    93      120  FEMALE  WHITE HISPANIC  70                 ANTI-WHITE   \n",
       "\n",
       "        Categories        Borough  \n",
       "6   Anti-Ethnicity      Manhattan  \n",
       "7    Anti-Religion      Manhattan  \n",
       "8   Anti-Ethnicity      Manhattan  \n",
       "9       Anti-LGBTQ      Manhattan  \n",
       "10  Anti-Ethnicity      Manhattan  \n",
       "..             ...            ...  \n",
       "94  Anti-Ethnicity  Staten Island  \n",
       "95  Anti-Ethnicity  Staten Island  \n",
       "96      Anti-LGBTQ  Staten Island  \n",
       "97  Anti-Ethnicity  Staten Island  \n",
       "98  Anti-Ethnicity  Staten Island  \n",
       "\n",
       "[93 rows x 8 columns]"
      ]
     },
     "execution_count": 20,
     "metadata": {},
     "output_type": "execute_result"
    }
   ],
   "source": [
    "twentytwenty_hate"
   ]
  },
  {
   "cell_type": "markdown",
   "id": "olive-store",
   "metadata": {},
   "source": [
    "#### Now we are plotting our information to view the different kinds of groups per borough and a specific Bias-Motivation.  "
   ]
  },
  {
   "cell_type": "markdown",
   "id": "broadband-kruger",
   "metadata": {},
   "source": [
    "#### This is our analysis of Anti-Asian Count Per Borough, we are able to analyze that the Boroughs in which the most Anti-Asian Crimes were in Manhattan and Bronx"
   ]
  },
  {
   "cell_type": "code",
   "execution_count": 82,
   "id": "italian-afternoon",
   "metadata": {},
   "outputs": [
    {
     "data": {
      "text/plain": [
       "<AxesSubplot:title={'center':'Anti-Asian Count Per Borough'}, ylabel='None'>"
      ]
     },
     "execution_count": 82,
     "metadata": {},
     "output_type": "execute_result"
    },
    {
     "data": {
      "image/png": "[encoded data removed]",
      "text/plain": [
       "<Figure size 432x288 with 1 Axes>"
      ]
     },
     "metadata": {},
     "output_type": "display_data"
    }
   ],
   "source": [
    "twentytwenty_hate[twentytwenty_hate[\"Bias-Motivation\"] == \"ANTI-ASIAN\"].groupby(\"Borough\").size().sort_values(ascending=False).plot(kind = 'pie', xlabel ='Borough', title ='Anti-Asian Count Per Borough',autopct='%.2f')"
   ]
  },
  {
   "cell_type": "markdown",
   "id": "extended-turtle",
   "metadata": {},
   "source": [
    "#### This is our analysis of Anti-Religion Count Per Borough, we are able to analyze that the Boroughs in which the most Anti-Religion were located in Brooklyn.\n"
   ]
  },
  {
   "cell_type": "code",
   "execution_count": 22,
   "id": "dominican-senate",
   "metadata": {},
   "outputs": [
    {
     "data": {
      "text/plain": [
       "<AxesSubplot:title={'center':'Anti-Religion Count Per Borough'}, ylabel='None'>"
      ]
     },
     "execution_count": 22,
     "metadata": {},
     "output_type": "execute_result"
    },
    {
     "data": {
      "image/png": "[encoded data removed]",
      "text/plain": [
       "<Figure size 432x288 with 1 Axes>"
      ]
     },
     "metadata": {},
     "output_type": "display_data"
    }
   ],
   "source": [
    "twentytwenty_hate[twentytwenty_hate[\"Categories\"] == \"Anti-Religion\"].groupby(\"Borough\").size().sort_values(ascending=False).plot(kind = 'pie', xlabel ='Borough', title ='Anti-Religion Count Per Borough',autopct='%.2f')\n"
   ]
  },
  {
   "cell_type": "markdown",
   "id": "wound-herald",
   "metadata": {},
   "source": [
    "#### This is our analysis of Anti-Ethncity Count Per Borough, we are able to analyze that the Boroughs in which the most Anti-Ethnicity was located the most in Manhattan."
   ]
  },
  {
   "cell_type": "code",
   "execution_count": 23,
   "id": "accepted-essay",
   "metadata": {},
   "outputs": [
    {
     "data": {
      "text/plain": [
       "<AxesSubplot:title={'center':'Anti-Ethnicity Count Per Borough'}, ylabel='None'>"
      ]
     },
     "execution_count": 23,
     "metadata": {},
     "output_type": "execute_result"
    },
    {
     "data": {
      "image/png": "[encoded data removed]",
      "text/plain": [
       "<Figure size 432x288 with 1 Axes>"
      ]
     },
     "metadata": {},
     "output_type": "display_data"
    }
   ],
   "source": [
    "twentytwenty_hate[twentytwenty_hate[\"Categories\"] == \"Anti-Ethnicity\"].groupby(\"Borough\").size().sort_values(ascending=False).plot(kind = 'pie', xlabel ='Borough', title ='Anti-Ethnicity Count Per Borough',autopct='%.2f')"
   ]
  },
  {
   "cell_type": "markdown",
   "id": "every-school",
   "metadata": {},
   "source": [
    "#### This is our analysis of Anti-LGBTQ Count Per Borough, we are able to analyze that the Boroughs in which the most Anti-LGBTQ  Hate Crimes occured was in Queens.\n"
   ]
  },
  {
   "cell_type": "code",
   "execution_count": 92,
   "id": "seventh-recovery",
   "metadata": {},
   "outputs": [
    {
     "data": {
      "text/plain": [
       "<AxesSubplot:title={'center':'Anti-LGBTQ Count Per Borough'}, ylabel='None'>"
      ]
     },
     "execution_count": 92,
     "metadata": {},
     "output_type": "execute_result"
    },
    {
     "data": {
      "image/png": "[encoded data removed]",
      "text/plain": [
       "<Figure size 432x288 with 1 Axes>"
      ]
     },
     "metadata": {},
     "output_type": "display_data"
    }
   ],
   "source": [
    "twentytwenty_hate[twentytwenty_hate[\"Categories\"] == \"Anti-LGBTQ\"].groupby(\"Borough\").size().sort_values(ascending=False).plot(kind = 'pie', xlabel ='Borough', title ='Anti-LGBTQ Count Per Borough',autopct='%.2f')"
   ]
  },
  {
   "cell_type": "markdown",
   "id": "initial-october",
   "metadata": {},
   "source": [
    "#### This is our analysis of Anti-Age  Count Per Borough, we are able to analyze that the Boroughs in which the most Anti-Age  Hate Crimes were  located in Queens.\n"
   ]
  },
  {
   "cell_type": "code",
   "execution_count": 25,
   "id": "fatty-purple",
   "metadata": {},
   "outputs": [
    {
     "data": {
      "text/plain": [
       "<AxesSubplot:title={'center':'Anti-Age Count Per Borough'}, ylabel='None'>"
      ]
     },
     "execution_count": 25,
     "metadata": {},
     "output_type": "execute_result"
    },
    {
     "data": {
      "image/png": "[encoded data removed]",
      "text/plain": [
       "<Figure size 432x288 with 1 Axes>"
      ]
     },
     "metadata": {},
     "output_type": "display_data"
    }
   ],
   "source": [
    "twentytwenty_hate[twentytwenty_hate[\"Categories\"] == \"Anti-Age\"].groupby(\"Borough\").size().sort_values(ascending=False).plot(kind = 'pie', xlabel ='Borough', title ='Anti-Age Count Per Borough',autopct='%.2f')"
   ]
  },
  {
   "cell_type": "markdown",
   "id": "organizational-valuable",
   "metadata": {},
   "source": [
    "#### This is our analysis of Unidentifiable Hate Crimes Per Borough, we are able to analyze that the Boroughs in which the most Unidentifiable  Hate Crimes were located in Manhattan."
   ]
  },
  {
   "cell_type": "code",
   "execution_count": 26,
   "id": "brutal-pressing",
   "metadata": {},
   "outputs": [
    {
     "data": {
      "text/plain": [
       "<AxesSubplot:title={'center':'Other Count Per Borough'}, ylabel='None'>"
      ]
     },
     "execution_count": 26,
     "metadata": {},
     "output_type": "execute_result"
    },
    {
     "data": {
      "image/png": "[encoded data removed]",
      "text/plain": [
       "<Figure size 432x288 with 1 Axes>"
      ]
     },
     "metadata": {},
     "output_type": "display_data"
    }
   ],
   "source": [
    "twentytwenty_hate[twentytwenty_hate[\"Categories\"] == \"Other\"].groupby(\"Borough\").size().sort_values(ascending=False).plot(kind = 'pie', xlabel ='Borough', title ='Other Count Per Borough',autopct='%.2f,')"
   ]
  },
  {
   "cell_type": "markdown",
   "id": "announced-minneapolis",
   "metadata": {},
   "source": [
    "### Analyzing our 2nd Dataset:"
   ]
  },
  {
   "cell_type": "markdown",
   "id": "supposed-charger",
   "metadata": {},
   "source": [
    "#### This dataset is from our 2019 Hate Crime "
   ]
  },
  {
   "cell_type": "code",
   "execution_count": 39,
   "id": "split-plain",
   "metadata": {},
   "outputs": [],
   "source": [
    "nineteen_hate_crime = pd.read_csv(\"2019 Hate Crime.csv\")"
   ]
  },
  {
   "cell_type": "code",
   "execution_count": 40,
   "id": "worthy-compression",
   "metadata": {},
   "outputs": [
    {
     "data": {
      "text/html": [
       "<div>\n",
       "<style scoped>\n",
       "    .dataframe tbody tr th:only-of-type {\n",
       "        vertical-align: middle;\n",
       "    }\n",
       "\n",
       "    .dataframe tbody tr th {\n",
       "        vertical-align: top;\n",
       "    }\n",
       "\n",
       "    .dataframe thead th {\n",
       "        text-align: right;\n",
       "    }\n",
       "</style>\n",
       "<table border=\"1\" class=\"dataframe\">\n",
       "  <thead>\n",
       "    <tr style=\"text-align: right;\">\n",
       "      <th></th>\n",
       "      <th>NYC Hate Crime Report</th>\n",
       "      <th>Unnamed: 1</th>\n",
       "      <th>Unnamed: 2</th>\n",
       "      <th>Unnamed: 3</th>\n",
       "      <th>Unnamed: 4</th>\n",
       "      <th>Unnamed: 5</th>\n",
       "      <th>Unnamed: 6</th>\n",
       "      <th>Unnamed: 7</th>\n",
       "      <th>Unnamed: 8</th>\n",
       "      <th>Unnamed: 9</th>\n",
       "      <th>Unnamed: 10</th>\n",
       "    </tr>\n",
       "  </thead>\n",
       "  <tbody>\n",
       "    <tr>\n",
       "      <th>0</th>\n",
       "      <td>Arrest Statistics involving Hate Crime Incidents</td>\n",
       "      <td>NaN</td>\n",
       "      <td>NaN</td>\n",
       "      <td>NaN</td>\n",
       "      <td>NaN</td>\n",
       "      <td>NaN</td>\n",
       "      <td>NaN</td>\n",
       "      <td>NaN</td>\n",
       "      <td>NaN</td>\n",
       "      <td>NaN</td>\n",
       "      <td>NaN</td>\n",
       "    </tr>\n",
       "    <tr>\n",
       "      <th>1</th>\n",
       "      <td>by Arrestee Gender, Race, Age and Bias Motivation</td>\n",
       "      <td>NaN</td>\n",
       "      <td>NaN</td>\n",
       "      <td>NaN</td>\n",
       "      <td>NaN</td>\n",
       "      <td>NaN</td>\n",
       "      <td>NaN</td>\n",
       "      <td>NaN</td>\n",
       "      <td>NaN</td>\n",
       "      <td>NaN</td>\n",
       "      <td>NaN</td>\n",
       "    </tr>\n",
       "    <tr>\n",
       "      <th>2</th>\n",
       "      <td>Calendar Year 2019</td>\n",
       "      <td>NaN</td>\n",
       "      <td>NaN</td>\n",
       "      <td>NaN</td>\n",
       "      <td>NaN</td>\n",
       "      <td>NaN</td>\n",
       "      <td>NaN</td>\n",
       "      <td>NaN</td>\n",
       "      <td>NaN</td>\n",
       "      <td>NaN</td>\n",
       "      <td>NaN</td>\n",
       "    </tr>\n",
       "    <tr>\n",
       "      <th>3</th>\n",
       "      <td>Number</td>\n",
       "      <td>Precinct</td>\n",
       "      <td>Gender</td>\n",
       "      <td>Race</td>\n",
       "      <td>Age</td>\n",
       "      <td>Bias-Motivation</td>\n",
       "      <td>NaN</td>\n",
       "      <td>NaN</td>\n",
       "      <td>NaN</td>\n",
       "      <td>NaN</td>\n",
       "      <td>NaN</td>\n",
       "    </tr>\n",
       "    <tr>\n",
       "      <th>4</th>\n",
       "      <td>1</td>\n",
       "      <td>1</td>\n",
       "      <td>Female</td>\n",
       "      <td>White</td>\n",
       "      <td>64</td>\n",
       "      <td>Anti-Islamic (Muslim)</td>\n",
       "      <td>NaN</td>\n",
       "      <td>NaN</td>\n",
       "      <td>NaN</td>\n",
       "      <td>NaN</td>\n",
       "      <td>NaN</td>\n",
       "    </tr>\n",
       "    <tr>\n",
       "      <th>...</th>\n",
       "      <td>...</td>\n",
       "      <td>...</td>\n",
       "      <td>...</td>\n",
       "      <td>...</td>\n",
       "      <td>...</td>\n",
       "      <td>...</td>\n",
       "      <td>...</td>\n",
       "      <td>...</td>\n",
       "      <td>...</td>\n",
       "      <td>...</td>\n",
       "      <td>...</td>\n",
       "    </tr>\n",
       "    <tr>\n",
       "      <th>132</th>\n",
       "      <td>129</td>\n",
       "      <td>NaN</td>\n",
       "      <td>Male</td>\n",
       "      <td>White</td>\n",
       "      <td>12</td>\n",
       "      <td>Anti-Jewish</td>\n",
       "      <td>NaN</td>\n",
       "      <td>NaN</td>\n",
       "      <td>NaN</td>\n",
       "      <td>NaN</td>\n",
       "      <td>NaN</td>\n",
       "    </tr>\n",
       "    <tr>\n",
       "      <th>133</th>\n",
       "      <td>130</td>\n",
       "      <td>113</td>\n",
       "      <td>Male</td>\n",
       "      <td>Asian</td>\n",
       "      <td>61</td>\n",
       "      <td>Anti-Black</td>\n",
       "      <td>NaN</td>\n",
       "      <td>NaN</td>\n",
       "      <td>NaN</td>\n",
       "      <td>NaN</td>\n",
       "      <td>NaN</td>\n",
       "    </tr>\n",
       "    <tr>\n",
       "      <th>134</th>\n",
       "      <td>131</td>\n",
       "      <td>114</td>\n",
       "      <td>Male</td>\n",
       "      <td>Asian</td>\n",
       "      <td>24</td>\n",
       "      <td>Anti-Jewish</td>\n",
       "      <td>NaN</td>\n",
       "      <td>NaN</td>\n",
       "      <td>NaN</td>\n",
       "      <td>NaN</td>\n",
       "      <td>NaN</td>\n",
       "    </tr>\n",
       "    <tr>\n",
       "      <th>135</th>\n",
       "      <td>132</td>\n",
       "      <td>115</td>\n",
       "      <td>Male</td>\n",
       "      <td>White</td>\n",
       "      <td>28</td>\n",
       "      <td>Anti-male homosexual (Gay)</td>\n",
       "      <td>NaN</td>\n",
       "      <td>NaN</td>\n",
       "      <td>NaN</td>\n",
       "      <td>NaN</td>\n",
       "      <td>NaN</td>\n",
       "    </tr>\n",
       "    <tr>\n",
       "      <th>136</th>\n",
       "      <td>133</td>\n",
       "      <td>NaN</td>\n",
       "      <td>Male</td>\n",
       "      <td>White</td>\n",
       "      <td>28</td>\n",
       "      <td>Anti-male homosexual (Gay)</td>\n",
       "      <td>NaN</td>\n",
       "      <td>NaN</td>\n",
       "      <td>NaN</td>\n",
       "      <td>NaN</td>\n",
       "      <td>NaN</td>\n",
       "    </tr>\n",
       "  </tbody>\n",
       "</table>\n",
       "<p>137 rows × 11 columns</p>\n",
       "</div>"
      ],
      "text/plain": [
       "                                 NYC Hate Crime Report Unnamed: 1 Unnamed: 2  \\\n",
       "0    Arrest Statistics involving Hate Crime Incidents         NaN        NaN   \n",
       "1    by Arrestee Gender, Race, Age and Bias Motivation        NaN        NaN   \n",
       "2                                   Calendar Year 2019        NaN        NaN   \n",
       "3                                               Number   Precinct     Gender   \n",
       "4                                                    1          1     Female   \n",
       "..                                                 ...        ...        ...   \n",
       "132                                                129        NaN       Male   \n",
       "133                                                130        113       Male   \n",
       "134                                                131        114       Male   \n",
       "135                                                132        115       Male   \n",
       "136                                                133        NaN       Male   \n",
       "\n",
       "    Unnamed: 3 Unnamed: 4                  Unnamed: 5  Unnamed: 6  Unnamed: 7  \\\n",
       "0          NaN        NaN                         NaN         NaN         NaN   \n",
       "1          NaN        NaN                         NaN         NaN         NaN   \n",
       "2          NaN        NaN                         NaN         NaN         NaN   \n",
       "3         Race        Age             Bias-Motivation         NaN         NaN   \n",
       "4        White         64       Anti-Islamic (Muslim)         NaN         NaN   \n",
       "..         ...        ...                         ...         ...         ...   \n",
       "132      White         12                 Anti-Jewish         NaN         NaN   \n",
       "133      Asian         61                  Anti-Black         NaN         NaN   \n",
       "134      Asian         24                 Anti-Jewish         NaN         NaN   \n",
       "135      White         28  Anti-male homosexual (Gay)         NaN         NaN   \n",
       "136      White         28  Anti-male homosexual (Gay)         NaN         NaN   \n",
       "\n",
       "     Unnamed: 8  Unnamed: 9  Unnamed: 10  \n",
       "0           NaN         NaN          NaN  \n",
       "1           NaN         NaN          NaN  \n",
       "2           NaN         NaN          NaN  \n",
       "3           NaN         NaN          NaN  \n",
       "4           NaN         NaN          NaN  \n",
       "..          ...         ...          ...  \n",
       "132         NaN         NaN          NaN  \n",
       "133         NaN         NaN          NaN  \n",
       "134         NaN         NaN          NaN  \n",
       "135         NaN         NaN          NaN  \n",
       "136         NaN         NaN          NaN  \n",
       "\n",
       "[137 rows x 11 columns]"
      ]
     },
     "execution_count": 40,
     "metadata": {},
     "output_type": "execute_result"
    }
   ],
   "source": [
    "nineteen_hate_crime"
   ]
  },
  {
   "cell_type": "markdown",
   "id": "hidden-condition",
   "metadata": {},
   "source": [
    "#### We are using loc to visualize the dataset without the null values, and comprehend how we want the dataframe needs to look like. "
   ]
  },
  {
   "cell_type": "code",
   "execution_count": 41,
   "id": "decreased-zambia",
   "metadata": {},
   "outputs": [
    {
     "data": {
      "text/html": [
       "<div>\n",
       "<style scoped>\n",
       "    .dataframe tbody tr th:only-of-type {\n",
       "        vertical-align: middle;\n",
       "    }\n",
       "\n",
       "    .dataframe tbody tr th {\n",
       "        vertical-align: top;\n",
       "    }\n",
       "\n",
       "    .dataframe thead th {\n",
       "        text-align: right;\n",
       "    }\n",
       "</style>\n",
       "<table border=\"1\" class=\"dataframe\">\n",
       "  <thead>\n",
       "    <tr style=\"text-align: right;\">\n",
       "      <th></th>\n",
       "      <th>NYC Hate Crime Report</th>\n",
       "      <th>Unnamed: 1</th>\n",
       "      <th>Unnamed: 2</th>\n",
       "      <th>Unnamed: 3</th>\n",
       "      <th>Unnamed: 4</th>\n",
       "      <th>Unnamed: 5</th>\n",
       "      <th>Unnamed: 6</th>\n",
       "      <th>Unnamed: 7</th>\n",
       "      <th>Unnamed: 8</th>\n",
       "      <th>Unnamed: 9</th>\n",
       "      <th>Unnamed: 10</th>\n",
       "    </tr>\n",
       "  </thead>\n",
       "  <tbody>\n",
       "    <tr>\n",
       "      <th>4</th>\n",
       "      <td>1</td>\n",
       "      <td>1</td>\n",
       "      <td>Female</td>\n",
       "      <td>White</td>\n",
       "      <td>64</td>\n",
       "      <td>Anti-Islamic (Muslim)</td>\n",
       "      <td>NaN</td>\n",
       "      <td>NaN</td>\n",
       "      <td>NaN</td>\n",
       "      <td>NaN</td>\n",
       "      <td>NaN</td>\n",
       "    </tr>\n",
       "    <tr>\n",
       "      <th>5</th>\n",
       "      <td>2</td>\n",
       "      <td>5</td>\n",
       "      <td>Female</td>\n",
       "      <td>White</td>\n",
       "      <td>49</td>\n",
       "      <td>Anti-Hispanic</td>\n",
       "      <td>NaN</td>\n",
       "      <td>NaN</td>\n",
       "      <td>NaN</td>\n",
       "      <td>NaN</td>\n",
       "      <td>NaN</td>\n",
       "    </tr>\n",
       "    <tr>\n",
       "      <th>6</th>\n",
       "      <td>3</td>\n",
       "      <td>NaN</td>\n",
       "      <td>Male</td>\n",
       "      <td>White</td>\n",
       "      <td>44</td>\n",
       "      <td>Anti-Islamic (Muslim)</td>\n",
       "      <td>NaN</td>\n",
       "      <td>NaN</td>\n",
       "      <td>NaN</td>\n",
       "      <td>NaN</td>\n",
       "      <td>NaN</td>\n",
       "    </tr>\n",
       "    <tr>\n",
       "      <th>7</th>\n",
       "      <td>4</td>\n",
       "      <td>NaN</td>\n",
       "      <td>Male</td>\n",
       "      <td>Black</td>\n",
       "      <td>41</td>\n",
       "      <td>Anti-White</td>\n",
       "      <td>NaN</td>\n",
       "      <td>NaN</td>\n",
       "      <td>NaN</td>\n",
       "      <td>NaN</td>\n",
       "      <td>NaN</td>\n",
       "    </tr>\n",
       "    <tr>\n",
       "      <th>8</th>\n",
       "      <td>5</td>\n",
       "      <td>6</td>\n",
       "      <td>Male</td>\n",
       "      <td>Black</td>\n",
       "      <td>21</td>\n",
       "      <td>Anti-Jewish</td>\n",
       "      <td>NaN</td>\n",
       "      <td>NaN</td>\n",
       "      <td>NaN</td>\n",
       "      <td>NaN</td>\n",
       "      <td>NaN</td>\n",
       "    </tr>\n",
       "    <tr>\n",
       "      <th>...</th>\n",
       "      <td>...</td>\n",
       "      <td>...</td>\n",
       "      <td>...</td>\n",
       "      <td>...</td>\n",
       "      <td>...</td>\n",
       "      <td>...</td>\n",
       "      <td>...</td>\n",
       "      <td>...</td>\n",
       "      <td>...</td>\n",
       "      <td>...</td>\n",
       "      <td>...</td>\n",
       "    </tr>\n",
       "    <tr>\n",
       "      <th>132</th>\n",
       "      <td>129</td>\n",
       "      <td>NaN</td>\n",
       "      <td>Male</td>\n",
       "      <td>White</td>\n",
       "      <td>12</td>\n",
       "      <td>Anti-Jewish</td>\n",
       "      <td>NaN</td>\n",
       "      <td>NaN</td>\n",
       "      <td>NaN</td>\n",
       "      <td>NaN</td>\n",
       "      <td>NaN</td>\n",
       "    </tr>\n",
       "    <tr>\n",
       "      <th>133</th>\n",
       "      <td>130</td>\n",
       "      <td>113</td>\n",
       "      <td>Male</td>\n",
       "      <td>Asian</td>\n",
       "      <td>61</td>\n",
       "      <td>Anti-Black</td>\n",
       "      <td>NaN</td>\n",
       "      <td>NaN</td>\n",
       "      <td>NaN</td>\n",
       "      <td>NaN</td>\n",
       "      <td>NaN</td>\n",
       "    </tr>\n",
       "    <tr>\n",
       "      <th>134</th>\n",
       "      <td>131</td>\n",
       "      <td>114</td>\n",
       "      <td>Male</td>\n",
       "      <td>Asian</td>\n",
       "      <td>24</td>\n",
       "      <td>Anti-Jewish</td>\n",
       "      <td>NaN</td>\n",
       "      <td>NaN</td>\n",
       "      <td>NaN</td>\n",
       "      <td>NaN</td>\n",
       "      <td>NaN</td>\n",
       "    </tr>\n",
       "    <tr>\n",
       "      <th>135</th>\n",
       "      <td>132</td>\n",
       "      <td>115</td>\n",
       "      <td>Male</td>\n",
       "      <td>White</td>\n",
       "      <td>28</td>\n",
       "      <td>Anti-male homosexual (Gay)</td>\n",
       "      <td>NaN</td>\n",
       "      <td>NaN</td>\n",
       "      <td>NaN</td>\n",
       "      <td>NaN</td>\n",
       "      <td>NaN</td>\n",
       "    </tr>\n",
       "    <tr>\n",
       "      <th>136</th>\n",
       "      <td>133</td>\n",
       "      <td>NaN</td>\n",
       "      <td>Male</td>\n",
       "      <td>White</td>\n",
       "      <td>28</td>\n",
       "      <td>Anti-male homosexual (Gay)</td>\n",
       "      <td>NaN</td>\n",
       "      <td>NaN</td>\n",
       "      <td>NaN</td>\n",
       "      <td>NaN</td>\n",
       "      <td>NaN</td>\n",
       "    </tr>\n",
       "  </tbody>\n",
       "</table>\n",
       "<p>133 rows × 11 columns</p>\n",
       "</div>"
      ],
      "text/plain": [
       "    NYC Hate Crime Report Unnamed: 1 Unnamed: 2 Unnamed: 3 Unnamed: 4  \\\n",
       "4                       1          1     Female      White         64   \n",
       "5                       2          5     Female      White         49   \n",
       "6                       3        NaN       Male      White         44   \n",
       "7                       4        NaN       Male      Black         41   \n",
       "8                       5          6       Male      Black         21   \n",
       "..                    ...        ...        ...        ...        ...   \n",
       "132                   129        NaN       Male      White         12   \n",
       "133                   130        113       Male      Asian         61   \n",
       "134                   131        114       Male      Asian         24   \n",
       "135                   132        115       Male      White         28   \n",
       "136                   133        NaN       Male      White         28   \n",
       "\n",
       "                     Unnamed: 5  Unnamed: 6  Unnamed: 7  Unnamed: 8  \\\n",
       "4         Anti-Islamic (Muslim)         NaN         NaN         NaN   \n",
       "5                 Anti-Hispanic         NaN         NaN         NaN   \n",
       "6         Anti-Islamic (Muslim)         NaN         NaN         NaN   \n",
       "7                    Anti-White         NaN         NaN         NaN   \n",
       "8                   Anti-Jewish         NaN         NaN         NaN   \n",
       "..                          ...         ...         ...         ...   \n",
       "132                 Anti-Jewish         NaN         NaN         NaN   \n",
       "133                  Anti-Black         NaN         NaN         NaN   \n",
       "134                 Anti-Jewish         NaN         NaN         NaN   \n",
       "135  Anti-male homosexual (Gay)         NaN         NaN         NaN   \n",
       "136  Anti-male homosexual (Gay)         NaN         NaN         NaN   \n",
       "\n",
       "     Unnamed: 9  Unnamed: 10  \n",
       "4           NaN          NaN  \n",
       "5           NaN          NaN  \n",
       "6           NaN          NaN  \n",
       "7           NaN          NaN  \n",
       "8           NaN          NaN  \n",
       "..          ...          ...  \n",
       "132         NaN          NaN  \n",
       "133         NaN          NaN  \n",
       "134         NaN          NaN  \n",
       "135         NaN          NaN  \n",
       "136         NaN          NaN  \n",
       "\n",
       "[133 rows x 11 columns]"
      ]
     },
     "execution_count": 41,
     "metadata": {},
     "output_type": "execute_result"
    }
   ],
   "source": [
    "nineteen_hate_crime.loc[4:]"
   ]
  },
  {
   "cell_type": "markdown",
   "id": "elegant-independence",
   "metadata": {},
   "source": [
    "#### Knowing how this information looks like, we can drop the rows that are not needed."
   ]
  },
  {
   "cell_type": "code",
   "execution_count": 42,
   "id": "exact-spray",
   "metadata": {},
   "outputs": [],
   "source": [
    "nineteen_hate_crime = nineteen_hate_crime.drop([0,1,2,3])"
   ]
  },
  {
   "cell_type": "markdown",
   "id": "senior-grade",
   "metadata": {},
   "source": [
    "#### There are still rows that are empty,therefore we can just drop them."
   ]
  },
  {
   "cell_type": "code",
   "execution_count": 43,
   "id": "extra-paradise",
   "metadata": {},
   "outputs": [
    {
     "data": {
      "text/plain": [
       "NYC Hate Crime Report      0\n",
       "Unnamed: 1                84\n",
       "Unnamed: 2                 0\n",
       "Unnamed: 3                 0\n",
       "Unnamed: 4                 0\n",
       "Unnamed: 5                 0\n",
       "Unnamed: 6               133\n",
       "Unnamed: 7               133\n",
       "Unnamed: 8               133\n",
       "Unnamed: 9               133\n",
       "Unnamed: 10              133\n",
       "dtype: int64"
      ]
     },
     "execution_count": 43,
     "metadata": {},
     "output_type": "execute_result"
    }
   ],
   "source": [
    "nineteen_hate_crime.isna().sum()"
   ]
  },
  {
   "cell_type": "markdown",
   "id": "cordless-dryer",
   "metadata": {},
   "source": [
    "#### We can also drop the columns after Unnamed5 because they all represent null values that are unecessary for us. "
   ]
  },
  {
   "cell_type": "code",
   "execution_count": 45,
   "id": "lucky-stake",
   "metadata": {},
   "outputs": [],
   "source": [
    "nineteen_hate_crime = nineteen_hate_crime.drop(columns=['Unnamed: 6', 'Unnamed: 7','Unnamed: 8','Unnamed: 9','Unnamed: 10'])"
   ]
  },
  {
   "cell_type": "markdown",
   "id": "expanded-edwards",
   "metadata": {},
   "source": [
    "#### Now let's rename our columns to be appropoate and fill values that are empty with 0"
   ]
  },
  {
   "cell_type": "code",
   "execution_count": 46,
   "id": "aware-pressing",
   "metadata": {},
   "outputs": [],
   "source": [
    "nineteen_hate_crime = nineteen_hate_crime.rename(columns={\"NYC Hate Crime Report\": \"Index\", \"Unnamed: 1\":\"Precinct\", \"Unnamed: 2\":\"Gender\",\n",
    "                  \"Unnamed: 3\":\"Race\", \"Unnamed: 4\":\"Age\",\"Unnamed: 5\":\"Bias-Motivation\"})"
   ]
  },
  {
   "cell_type": "code",
   "execution_count": 47,
   "id": "modified-attention",
   "metadata": {},
   "outputs": [
    {
     "data": {
      "text/html": [
       "<div>\n",
       "<style scoped>\n",
       "    .dataframe tbody tr th:only-of-type {\n",
       "        vertical-align: middle;\n",
       "    }\n",
       "\n",
       "    .dataframe tbody tr th {\n",
       "        vertical-align: top;\n",
       "    }\n",
       "\n",
       "    .dataframe thead th {\n",
       "        text-align: right;\n",
       "    }\n",
       "</style>\n",
       "<table border=\"1\" class=\"dataframe\">\n",
       "  <thead>\n",
       "    <tr style=\"text-align: right;\">\n",
       "      <th></th>\n",
       "      <th>Index</th>\n",
       "      <th>Precinct</th>\n",
       "      <th>Gender</th>\n",
       "      <th>Race</th>\n",
       "      <th>Age</th>\n",
       "      <th>Bias-Motivation</th>\n",
       "    </tr>\n",
       "  </thead>\n",
       "  <tbody>\n",
       "    <tr>\n",
       "      <th>4</th>\n",
       "      <td>1</td>\n",
       "      <td>1</td>\n",
       "      <td>Female</td>\n",
       "      <td>White</td>\n",
       "      <td>64</td>\n",
       "      <td>Anti-Islamic (Muslim)</td>\n",
       "    </tr>\n",
       "    <tr>\n",
       "      <th>5</th>\n",
       "      <td>2</td>\n",
       "      <td>5</td>\n",
       "      <td>Female</td>\n",
       "      <td>White</td>\n",
       "      <td>49</td>\n",
       "      <td>Anti-Hispanic</td>\n",
       "    </tr>\n",
       "    <tr>\n",
       "      <th>6</th>\n",
       "      <td>3</td>\n",
       "      <td>NaN</td>\n",
       "      <td>Male</td>\n",
       "      <td>White</td>\n",
       "      <td>44</td>\n",
       "      <td>Anti-Islamic (Muslim)</td>\n",
       "    </tr>\n",
       "    <tr>\n",
       "      <th>7</th>\n",
       "      <td>4</td>\n",
       "      <td>NaN</td>\n",
       "      <td>Male</td>\n",
       "      <td>Black</td>\n",
       "      <td>41</td>\n",
       "      <td>Anti-White</td>\n",
       "    </tr>\n",
       "    <tr>\n",
       "      <th>8</th>\n",
       "      <td>5</td>\n",
       "      <td>6</td>\n",
       "      <td>Male</td>\n",
       "      <td>Black</td>\n",
       "      <td>21</td>\n",
       "      <td>Anti-Jewish</td>\n",
       "    </tr>\n",
       "    <tr>\n",
       "      <th>...</th>\n",
       "      <td>...</td>\n",
       "      <td>...</td>\n",
       "      <td>...</td>\n",
       "      <td>...</td>\n",
       "      <td>...</td>\n",
       "      <td>...</td>\n",
       "    </tr>\n",
       "    <tr>\n",
       "      <th>132</th>\n",
       "      <td>129</td>\n",
       "      <td>NaN</td>\n",
       "      <td>Male</td>\n",
       "      <td>White</td>\n",
       "      <td>12</td>\n",
       "      <td>Anti-Jewish</td>\n",
       "    </tr>\n",
       "    <tr>\n",
       "      <th>133</th>\n",
       "      <td>130</td>\n",
       "      <td>113</td>\n",
       "      <td>Male</td>\n",
       "      <td>Asian</td>\n",
       "      <td>61</td>\n",
       "      <td>Anti-Black</td>\n",
       "    </tr>\n",
       "    <tr>\n",
       "      <th>134</th>\n",
       "      <td>131</td>\n",
       "      <td>114</td>\n",
       "      <td>Male</td>\n",
       "      <td>Asian</td>\n",
       "      <td>24</td>\n",
       "      <td>Anti-Jewish</td>\n",
       "    </tr>\n",
       "    <tr>\n",
       "      <th>135</th>\n",
       "      <td>132</td>\n",
       "      <td>115</td>\n",
       "      <td>Male</td>\n",
       "      <td>White</td>\n",
       "      <td>28</td>\n",
       "      <td>Anti-male homosexual (Gay)</td>\n",
       "    </tr>\n",
       "    <tr>\n",
       "      <th>136</th>\n",
       "      <td>133</td>\n",
       "      <td>NaN</td>\n",
       "      <td>Male</td>\n",
       "      <td>White</td>\n",
       "      <td>28</td>\n",
       "      <td>Anti-male homosexual (Gay)</td>\n",
       "    </tr>\n",
       "  </tbody>\n",
       "</table>\n",
       "<p>133 rows × 6 columns</p>\n",
       "</div>"
      ],
      "text/plain": [
       "    Index Precinct  Gender   Race Age             Bias-Motivation\n",
       "4       1        1  Female  White  64       Anti-Islamic (Muslim)\n",
       "5       2        5  Female  White  49               Anti-Hispanic\n",
       "6       3      NaN    Male  White  44       Anti-Islamic (Muslim)\n",
       "7       4      NaN    Male  Black  41                  Anti-White\n",
       "8       5        6    Male  Black  21                 Anti-Jewish\n",
       "..    ...      ...     ...    ...  ..                         ...\n",
       "132   129      NaN    Male  White  12                 Anti-Jewish\n",
       "133   130      113    Male  Asian  61                  Anti-Black\n",
       "134   131      114    Male  Asian  24                 Anti-Jewish\n",
       "135   132      115    Male  White  28  Anti-male homosexual (Gay)\n",
       "136   133      NaN    Male  White  28  Anti-male homosexual (Gay)\n",
       "\n",
       "[133 rows x 6 columns]"
      ]
     },
     "execution_count": 47,
     "metadata": {},
     "output_type": "execute_result"
    }
   ],
   "source": [
    "nineteen_hate_crime "
   ]
  },
  {
   "cell_type": "markdown",
   "id": "revised-panel",
   "metadata": {},
   "source": [
    "#### Fill the nan values with 0 "
   ]
  },
  {
   "cell_type": "code",
   "execution_count": 48,
   "id": "refined-angel",
   "metadata": {},
   "outputs": [],
   "source": [
    "nineteen_hate_crime['Precinct'] = nineteen_hate_crime['Precinct'].fillna(0)"
   ]
  },
  {
   "cell_type": "code",
   "execution_count": 49,
   "id": "outside-glance",
   "metadata": {},
   "outputs": [
    {
     "data": {
      "text/html": [
       "<div>\n",
       "<style scoped>\n",
       "    .dataframe tbody tr th:only-of-type {\n",
       "        vertical-align: middle;\n",
       "    }\n",
       "\n",
       "    .dataframe tbody tr th {\n",
       "        vertical-align: top;\n",
       "    }\n",
       "\n",
       "    .dataframe thead th {\n",
       "        text-align: right;\n",
       "    }\n",
       "</style>\n",
       "<table border=\"1\" class=\"dataframe\">\n",
       "  <thead>\n",
       "    <tr style=\"text-align: right;\">\n",
       "      <th></th>\n",
       "      <th>Index</th>\n",
       "      <th>Precinct</th>\n",
       "      <th>Gender</th>\n",
       "      <th>Race</th>\n",
       "      <th>Age</th>\n",
       "      <th>Bias-Motivation</th>\n",
       "    </tr>\n",
       "  </thead>\n",
       "  <tbody>\n",
       "    <tr>\n",
       "      <th>4</th>\n",
       "      <td>1</td>\n",
       "      <td>1</td>\n",
       "      <td>Female</td>\n",
       "      <td>White</td>\n",
       "      <td>64</td>\n",
       "      <td>Anti-Islamic (Muslim)</td>\n",
       "    </tr>\n",
       "    <tr>\n",
       "      <th>5</th>\n",
       "      <td>2</td>\n",
       "      <td>5</td>\n",
       "      <td>Female</td>\n",
       "      <td>White</td>\n",
       "      <td>49</td>\n",
       "      <td>Anti-Hispanic</td>\n",
       "    </tr>\n",
       "    <tr>\n",
       "      <th>6</th>\n",
       "      <td>3</td>\n",
       "      <td>0</td>\n",
       "      <td>Male</td>\n",
       "      <td>White</td>\n",
       "      <td>44</td>\n",
       "      <td>Anti-Islamic (Muslim)</td>\n",
       "    </tr>\n",
       "    <tr>\n",
       "      <th>7</th>\n",
       "      <td>4</td>\n",
       "      <td>0</td>\n",
       "      <td>Male</td>\n",
       "      <td>Black</td>\n",
       "      <td>41</td>\n",
       "      <td>Anti-White</td>\n",
       "    </tr>\n",
       "    <tr>\n",
       "      <th>8</th>\n",
       "      <td>5</td>\n",
       "      <td>6</td>\n",
       "      <td>Male</td>\n",
       "      <td>Black</td>\n",
       "      <td>21</td>\n",
       "      <td>Anti-Jewish</td>\n",
       "    </tr>\n",
       "    <tr>\n",
       "      <th>...</th>\n",
       "      <td>...</td>\n",
       "      <td>...</td>\n",
       "      <td>...</td>\n",
       "      <td>...</td>\n",
       "      <td>...</td>\n",
       "      <td>...</td>\n",
       "    </tr>\n",
       "    <tr>\n",
       "      <th>132</th>\n",
       "      <td>129</td>\n",
       "      <td>0</td>\n",
       "      <td>Male</td>\n",
       "      <td>White</td>\n",
       "      <td>12</td>\n",
       "      <td>Anti-Jewish</td>\n",
       "    </tr>\n",
       "    <tr>\n",
       "      <th>133</th>\n",
       "      <td>130</td>\n",
       "      <td>113</td>\n",
       "      <td>Male</td>\n",
       "      <td>Asian</td>\n",
       "      <td>61</td>\n",
       "      <td>Anti-Black</td>\n",
       "    </tr>\n",
       "    <tr>\n",
       "      <th>134</th>\n",
       "      <td>131</td>\n",
       "      <td>114</td>\n",
       "      <td>Male</td>\n",
       "      <td>Asian</td>\n",
       "      <td>24</td>\n",
       "      <td>Anti-Jewish</td>\n",
       "    </tr>\n",
       "    <tr>\n",
       "      <th>135</th>\n",
       "      <td>132</td>\n",
       "      <td>115</td>\n",
       "      <td>Male</td>\n",
       "      <td>White</td>\n",
       "      <td>28</td>\n",
       "      <td>Anti-male homosexual (Gay)</td>\n",
       "    </tr>\n",
       "    <tr>\n",
       "      <th>136</th>\n",
       "      <td>133</td>\n",
       "      <td>0</td>\n",
       "      <td>Male</td>\n",
       "      <td>White</td>\n",
       "      <td>28</td>\n",
       "      <td>Anti-male homosexual (Gay)</td>\n",
       "    </tr>\n",
       "  </tbody>\n",
       "</table>\n",
       "<p>133 rows × 6 columns</p>\n",
       "</div>"
      ],
      "text/plain": [
       "    Index Precinct  Gender   Race Age             Bias-Motivation\n",
       "4       1        1  Female  White  64       Anti-Islamic (Muslim)\n",
       "5       2        5  Female  White  49               Anti-Hispanic\n",
       "6       3        0    Male  White  44       Anti-Islamic (Muslim)\n",
       "7       4        0    Male  Black  41                  Anti-White\n",
       "8       5        6    Male  Black  21                 Anti-Jewish\n",
       "..    ...      ...     ...    ...  ..                         ...\n",
       "132   129        0    Male  White  12                 Anti-Jewish\n",
       "133   130      113    Male  Asian  61                  Anti-Black\n",
       "134   131      114    Male  Asian  24                 Anti-Jewish\n",
       "135   132      115    Male  White  28  Anti-male homosexual (Gay)\n",
       "136   133        0    Male  White  28  Anti-male homosexual (Gay)\n",
       "\n",
       "[133 rows x 6 columns]"
      ]
     },
     "execution_count": 49,
     "metadata": {},
     "output_type": "execute_result"
    }
   ],
   "source": [
    "nineteen_hate_crime"
   ]
  },
  {
   "cell_type": "markdown",
   "id": "developed-parks",
   "metadata": {},
   "source": [
    "####  In 2019 there was only 3 Asians who were targeted for a hate crime."
   ]
  },
  {
   "cell_type": "code",
   "execution_count": 53,
   "id": "documented-swedish",
   "metadata": {},
   "outputs": [
    {
     "data": {
      "text/plain": [
       "array([False, False, False, False, False, False, False, False, False,\n",
       "       False, False, False, False, False, False, False, False, False,\n",
       "       False, False, False, False, False, False, False, False, False,\n",
       "       False, False, False, False, False, False, False, False, False,\n",
       "       False, False, False, False, False, False, False, False, False,\n",
       "       False, False, False, False,  True,  True,  True, False, False,\n",
       "       False, False, False, False, False, False, False, False, False,\n",
       "       False, False, False, False, False, False, False, False, False,\n",
       "       False, False, False, False, False, False, False, False, False,\n",
       "       False, False, False, False, False, False, False, False, False,\n",
       "       False, False, False, False, False, False, False, False, False,\n",
       "       False, False, False, False, False, False, False, False, False,\n",
       "       False, False, False, False, False, False, False, False, False,\n",
       "       False, False, False, False, False, False, False, False, False,\n",
       "       False, False, False, False, False, False, False])"
      ]
     },
     "execution_count": 53,
     "metadata": {},
     "output_type": "execute_result"
    }
   ],
   "source": [
    "nineteen_hate_crime['Bias-Motivation'].values == 'Anti-Asian'"
   ]
  },
  {
   "cell_type": "markdown",
   "id": "incorporated-andrew",
   "metadata": {},
   "source": [
    "#### Get all precicnt values and group them by borough or add a borough column in so it's associated with all the datasets keep in mind precints with value 0 are with no borough "
   ]
  },
  {
   "cell_type": "code",
   "execution_count": 59,
   "id": "structured-southwest",
   "metadata": {},
   "outputs": [
    {
     "data": {
      "text/plain": [
       "array(['1', '5', 0, 0, '6', 0, 0, '9', 0, 0, '10', 0, '13', 0, 0, '14',\n",
       "       '17', 0, '18', 0, 0, 0, 0, 0, '25', 0, 0, 0, 0, '28', 0, '30',\n",
       "       '32', 0, '33', 0, '34', '40', '42', 0, 0, '43', 0, '47', '48', 0,\n",
       "       0, '49', '60', '61', 0, 0, 0, 0, 0, '62', '63', '66', 0, 0, 0, 0,\n",
       "       0, '67', 0, '68', '70', 0, 0, '71', 0, 0, 0, 0, 0, 0, 0, 0, 0,\n",
       "       '75', 0, 0, 0, 0, 0, '76', 0, 0, '77', '79', 0, 0, '81', 0, 0, 0,\n",
       "       '84', 0, 0, '88', 0, '90', 0, '94', 0, 0, 0, 0, 0, 0, 0, 0, '101',\n",
       "       0, 0, '102', '103', '106', 0, '107', 0, '110', 0, 0, 0, '112', 0,\n",
       "       0, 0, '113', '114', '115', 0], dtype=object)"
      ]
     },
     "execution_count": 59,
     "metadata": {},
     "output_type": "execute_result"
    }
   ],
   "source": [
    "nineteen_hate_crime['Precinct'].values"
   ]
  },
  {
   "cell_type": "markdown",
   "id": "standing-relationship",
   "metadata": {},
   "source": [
    "#### These precinct values can be stored with their borough in a dictionary and we can map this in a proper way to create a new column. "
   ]
  },
  {
   "cell_type": "code",
   "execution_count": 63,
   "id": "grateful-guest",
   "metadata": {},
   "outputs": [],
   "source": [
    "cop_dictionary = {'1':'Manhattan',\n",
    "                  '5':'Manhattan',\n",
    "                  '6':'Manhattan',\n",
    "                  '9':'Manhattan',\n",
    "                  '10':'Manhattan',\n",
    "                  '13':'Manhattan',\n",
    "                  '14':'Manhattan',\n",
    "                  '17':'Manhattan',\n",
    "                  '18':'Manhattan',\n",
    "                  '25':'Manhattan',\n",
    "                  '28':'Manhattan',\n",
    "                  '30':'Manhattan',\n",
    "                  '32':'Manhattan',\n",
    "                  '33':'Manhattan',\n",
    "                  '34':'Manhattan',\n",
    "                  '40':'Bronx',\n",
    "                  '42':'Bronx',\n",
    "                  '43':'Bronx',\n",
    "                  '47':'Bronx',\n",
    "                  '48':'Bronx',\n",
    "                  '49':'Bronx',\n",
    "                  '60':'Brooklyn',\n",
    "                  '61':'Brooklyn',\n",
    "                  '62':'Brooklyn',\n",
    "                  '63':'Brooklyn',\n",
    "                  '66':'Brooklyn',\n",
    "                  '66':'Brooklyn',\n",
    "                  '67':'Brooklyn',\n",
    "                  '68':'Brooklyn',\n",
    "                  '70':'Broooklyn',\n",
    "                  '71':'Brooklyn',\n",
    "                  '75':'Brooklyn',\n",
    "                  '76':'Brooklyn',\n",
    "                  '77':'Brooklyn',\n",
    "                  '79':'Brooklyn',\n",
    "                  '81':'Brooklyn',\n",
    "                  '84':'Brooklyn',\n",
    "                  '88':'Brooklyn',\n",
    "                  '90':'Brooklyn',\n",
    "                  '94':'Brooklyn',\n",
    "                  '101':'Queens',\n",
    "                  '102':'Queens',\n",
    "                  '103':'Queens',\n",
    "                  '106':'Queens',\n",
    "                  '107':'Queens',\n",
    "                  '110':'Queens',\n",
    "                  '112':'Queens',\n",
    "                  '113':'Queens',\n",
    "                  '114':'Queens',\n",
    "                  '115':'Queens',\n",
    "                  0:'Un-Identified'}"
   ]
  },
  {
   "cell_type": "code",
   "execution_count": 64,
   "id": "frozen-symbol",
   "metadata": {},
   "outputs": [],
   "source": [
    "nineteen_hate_crime['Borough'] = nineteen_hate_crime['Precinct'].map(cop_dictionary)"
   ]
  },
  {
   "cell_type": "markdown",
   "id": "corresponding-tennis",
   "metadata": {},
   "source": [
    "#### This is the new column "
   ]
  },
  {
   "cell_type": "code",
   "execution_count": 65,
   "id": "progressive-soundtrack",
   "metadata": {},
   "outputs": [
    {
     "data": {
      "text/html": [
       "<div>\n",
       "<style scoped>\n",
       "    .dataframe tbody tr th:only-of-type {\n",
       "        vertical-align: middle;\n",
       "    }\n",
       "\n",
       "    .dataframe tbody tr th {\n",
       "        vertical-align: top;\n",
       "    }\n",
       "\n",
       "    .dataframe thead th {\n",
       "        text-align: right;\n",
       "    }\n",
       "</style>\n",
       "<table border=\"1\" class=\"dataframe\">\n",
       "  <thead>\n",
       "    <tr style=\"text-align: right;\">\n",
       "      <th></th>\n",
       "      <th>Index</th>\n",
       "      <th>Precinct</th>\n",
       "      <th>Gender</th>\n",
       "      <th>Race</th>\n",
       "      <th>Age</th>\n",
       "      <th>Bias-Motivation</th>\n",
       "      <th>Borough</th>\n",
       "    </tr>\n",
       "  </thead>\n",
       "  <tbody>\n",
       "    <tr>\n",
       "      <th>4</th>\n",
       "      <td>1</td>\n",
       "      <td>1</td>\n",
       "      <td>Female</td>\n",
       "      <td>White</td>\n",
       "      <td>64</td>\n",
       "      <td>Anti-Islamic (Muslim)</td>\n",
       "      <td>Manhattan</td>\n",
       "    </tr>\n",
       "    <tr>\n",
       "      <th>5</th>\n",
       "      <td>2</td>\n",
       "      <td>5</td>\n",
       "      <td>Female</td>\n",
       "      <td>White</td>\n",
       "      <td>49</td>\n",
       "      <td>Anti-Hispanic</td>\n",
       "      <td>Manhattan</td>\n",
       "    </tr>\n",
       "    <tr>\n",
       "      <th>6</th>\n",
       "      <td>3</td>\n",
       "      <td>0</td>\n",
       "      <td>Male</td>\n",
       "      <td>White</td>\n",
       "      <td>44</td>\n",
       "      <td>Anti-Islamic (Muslim)</td>\n",
       "      <td>Un-Identified</td>\n",
       "    </tr>\n",
       "    <tr>\n",
       "      <th>7</th>\n",
       "      <td>4</td>\n",
       "      <td>0</td>\n",
       "      <td>Male</td>\n",
       "      <td>Black</td>\n",
       "      <td>41</td>\n",
       "      <td>Anti-White</td>\n",
       "      <td>Un-Identified</td>\n",
       "    </tr>\n",
       "    <tr>\n",
       "      <th>8</th>\n",
       "      <td>5</td>\n",
       "      <td>6</td>\n",
       "      <td>Male</td>\n",
       "      <td>Black</td>\n",
       "      <td>21</td>\n",
       "      <td>Anti-Jewish</td>\n",
       "      <td>Manhattan</td>\n",
       "    </tr>\n",
       "    <tr>\n",
       "      <th>...</th>\n",
       "      <td>...</td>\n",
       "      <td>...</td>\n",
       "      <td>...</td>\n",
       "      <td>...</td>\n",
       "      <td>...</td>\n",
       "      <td>...</td>\n",
       "      <td>...</td>\n",
       "    </tr>\n",
       "    <tr>\n",
       "      <th>132</th>\n",
       "      <td>129</td>\n",
       "      <td>0</td>\n",
       "      <td>Male</td>\n",
       "      <td>White</td>\n",
       "      <td>12</td>\n",
       "      <td>Anti-Jewish</td>\n",
       "      <td>Un-Identified</td>\n",
       "    </tr>\n",
       "    <tr>\n",
       "      <th>133</th>\n",
       "      <td>130</td>\n",
       "      <td>113</td>\n",
       "      <td>Male</td>\n",
       "      <td>Asian</td>\n",
       "      <td>61</td>\n",
       "      <td>Anti-Black</td>\n",
       "      <td>Queens</td>\n",
       "    </tr>\n",
       "    <tr>\n",
       "      <th>134</th>\n",
       "      <td>131</td>\n",
       "      <td>114</td>\n",
       "      <td>Male</td>\n",
       "      <td>Asian</td>\n",
       "      <td>24</td>\n",
       "      <td>Anti-Jewish</td>\n",
       "      <td>Queens</td>\n",
       "    </tr>\n",
       "    <tr>\n",
       "      <th>135</th>\n",
       "      <td>132</td>\n",
       "      <td>115</td>\n",
       "      <td>Male</td>\n",
       "      <td>White</td>\n",
       "      <td>28</td>\n",
       "      <td>Anti-male homosexual (Gay)</td>\n",
       "      <td>Queens</td>\n",
       "    </tr>\n",
       "    <tr>\n",
       "      <th>136</th>\n",
       "      <td>133</td>\n",
       "      <td>0</td>\n",
       "      <td>Male</td>\n",
       "      <td>White</td>\n",
       "      <td>28</td>\n",
       "      <td>Anti-male homosexual (Gay)</td>\n",
       "      <td>Un-Identified</td>\n",
       "    </tr>\n",
       "  </tbody>\n",
       "</table>\n",
       "<p>133 rows × 7 columns</p>\n",
       "</div>"
      ],
      "text/plain": [
       "    Index Precinct  Gender   Race Age             Bias-Motivation  \\\n",
       "4       1        1  Female  White  64       Anti-Islamic (Muslim)   \n",
       "5       2        5  Female  White  49               Anti-Hispanic   \n",
       "6       3        0    Male  White  44       Anti-Islamic (Muslim)   \n",
       "7       4        0    Male  Black  41                  Anti-White   \n",
       "8       5        6    Male  Black  21                 Anti-Jewish   \n",
       "..    ...      ...     ...    ...  ..                         ...   \n",
       "132   129        0    Male  White  12                 Anti-Jewish   \n",
       "133   130      113    Male  Asian  61                  Anti-Black   \n",
       "134   131      114    Male  Asian  24                 Anti-Jewish   \n",
       "135   132      115    Male  White  28  Anti-male homosexual (Gay)   \n",
       "136   133        0    Male  White  28  Anti-male homosexual (Gay)   \n",
       "\n",
       "           Borough  \n",
       "4        Manhattan  \n",
       "5        Manhattan  \n",
       "6    Un-Identified  \n",
       "7    Un-Identified  \n",
       "8        Manhattan  \n",
       "..             ...  \n",
       "132  Un-Identified  \n",
       "133         Queens  \n",
       "134         Queens  \n",
       "135         Queens  \n",
       "136  Un-Identified  \n",
       "\n",
       "[133 rows x 7 columns]"
      ]
     },
     "execution_count": 65,
     "metadata": {},
     "output_type": "execute_result"
    }
   ],
   "source": [
    "nineteen_hate_crime"
   ]
  },
  {
   "cell_type": "markdown",
   "id": "median-watson",
   "metadata": {},
   "source": [
    "#### Now we are going to copy the original frame to edit it and make new changes to the dataframe. "
   ]
  },
  {
   "cell_type": "code",
   "execution_count": 66,
   "id": "boring-count",
   "metadata": {},
   "outputs": [],
   "source": [
    "nineteen_hate = nineteen_hate_crime.copy()"
   ]
  },
  {
   "cell_type": "code",
   "execution_count": 67,
   "id": "conventional-wrestling",
   "metadata": {},
   "outputs": [
    {
     "data": {
      "text/html": [
       "<div>\n",
       "<style scoped>\n",
       "    .dataframe tbody tr th:only-of-type {\n",
       "        vertical-align: middle;\n",
       "    }\n",
       "\n",
       "    .dataframe tbody tr th {\n",
       "        vertical-align: top;\n",
       "    }\n",
       "\n",
       "    .dataframe thead th {\n",
       "        text-align: right;\n",
       "    }\n",
       "</style>\n",
       "<table border=\"1\" class=\"dataframe\">\n",
       "  <thead>\n",
       "    <tr style=\"text-align: right;\">\n",
       "      <th></th>\n",
       "      <th>Index</th>\n",
       "      <th>Precinct</th>\n",
       "      <th>Gender</th>\n",
       "      <th>Race</th>\n",
       "      <th>Age</th>\n",
       "      <th>Bias-Motivation</th>\n",
       "      <th>Borough</th>\n",
       "    </tr>\n",
       "  </thead>\n",
       "  <tbody>\n",
       "    <tr>\n",
       "      <th>4</th>\n",
       "      <td>1</td>\n",
       "      <td>1</td>\n",
       "      <td>Female</td>\n",
       "      <td>White</td>\n",
       "      <td>64</td>\n",
       "      <td>Anti-Islamic (Muslim)</td>\n",
       "      <td>Manhattan</td>\n",
       "    </tr>\n",
       "    <tr>\n",
       "      <th>5</th>\n",
       "      <td>2</td>\n",
       "      <td>5</td>\n",
       "      <td>Female</td>\n",
       "      <td>White</td>\n",
       "      <td>49</td>\n",
       "      <td>Anti-Hispanic</td>\n",
       "      <td>Manhattan</td>\n",
       "    </tr>\n",
       "    <tr>\n",
       "      <th>6</th>\n",
       "      <td>3</td>\n",
       "      <td>0</td>\n",
       "      <td>Male</td>\n",
       "      <td>White</td>\n",
       "      <td>44</td>\n",
       "      <td>Anti-Islamic (Muslim)</td>\n",
       "      <td>Un-Identified</td>\n",
       "    </tr>\n",
       "    <tr>\n",
       "      <th>7</th>\n",
       "      <td>4</td>\n",
       "      <td>0</td>\n",
       "      <td>Male</td>\n",
       "      <td>Black</td>\n",
       "      <td>41</td>\n",
       "      <td>Anti-White</td>\n",
       "      <td>Un-Identified</td>\n",
       "    </tr>\n",
       "    <tr>\n",
       "      <th>8</th>\n",
       "      <td>5</td>\n",
       "      <td>6</td>\n",
       "      <td>Male</td>\n",
       "      <td>Black</td>\n",
       "      <td>21</td>\n",
       "      <td>Anti-Jewish</td>\n",
       "      <td>Manhattan</td>\n",
       "    </tr>\n",
       "    <tr>\n",
       "      <th>...</th>\n",
       "      <td>...</td>\n",
       "      <td>...</td>\n",
       "      <td>...</td>\n",
       "      <td>...</td>\n",
       "      <td>...</td>\n",
       "      <td>...</td>\n",
       "      <td>...</td>\n",
       "    </tr>\n",
       "    <tr>\n",
       "      <th>132</th>\n",
       "      <td>129</td>\n",
       "      <td>0</td>\n",
       "      <td>Male</td>\n",
       "      <td>White</td>\n",
       "      <td>12</td>\n",
       "      <td>Anti-Jewish</td>\n",
       "      <td>Un-Identified</td>\n",
       "    </tr>\n",
       "    <tr>\n",
       "      <th>133</th>\n",
       "      <td>130</td>\n",
       "      <td>113</td>\n",
       "      <td>Male</td>\n",
       "      <td>Asian</td>\n",
       "      <td>61</td>\n",
       "      <td>Anti-Black</td>\n",
       "      <td>Queens</td>\n",
       "    </tr>\n",
       "    <tr>\n",
       "      <th>134</th>\n",
       "      <td>131</td>\n",
       "      <td>114</td>\n",
       "      <td>Male</td>\n",
       "      <td>Asian</td>\n",
       "      <td>24</td>\n",
       "      <td>Anti-Jewish</td>\n",
       "      <td>Queens</td>\n",
       "    </tr>\n",
       "    <tr>\n",
       "      <th>135</th>\n",
       "      <td>132</td>\n",
       "      <td>115</td>\n",
       "      <td>Male</td>\n",
       "      <td>White</td>\n",
       "      <td>28</td>\n",
       "      <td>Anti-male homosexual (Gay)</td>\n",
       "      <td>Queens</td>\n",
       "    </tr>\n",
       "    <tr>\n",
       "      <th>136</th>\n",
       "      <td>133</td>\n",
       "      <td>0</td>\n",
       "      <td>Male</td>\n",
       "      <td>White</td>\n",
       "      <td>28</td>\n",
       "      <td>Anti-male homosexual (Gay)</td>\n",
       "      <td>Un-Identified</td>\n",
       "    </tr>\n",
       "  </tbody>\n",
       "</table>\n",
       "<p>133 rows × 7 columns</p>\n",
       "</div>"
      ],
      "text/plain": [
       "    Index Precinct  Gender   Race Age             Bias-Motivation  \\\n",
       "4       1        1  Female  White  64       Anti-Islamic (Muslim)   \n",
       "5       2        5  Female  White  49               Anti-Hispanic   \n",
       "6       3        0    Male  White  44       Anti-Islamic (Muslim)   \n",
       "7       4        0    Male  Black  41                  Anti-White   \n",
       "8       5        6    Male  Black  21                 Anti-Jewish   \n",
       "..    ...      ...     ...    ...  ..                         ...   \n",
       "132   129        0    Male  White  12                 Anti-Jewish   \n",
       "133   130      113    Male  Asian  61                  Anti-Black   \n",
       "134   131      114    Male  Asian  24                 Anti-Jewish   \n",
       "135   132      115    Male  White  28  Anti-male homosexual (Gay)   \n",
       "136   133        0    Male  White  28  Anti-male homosexual (Gay)   \n",
       "\n",
       "           Borough  \n",
       "4        Manhattan  \n",
       "5        Manhattan  \n",
       "6    Un-Identified  \n",
       "7    Un-Identified  \n",
       "8        Manhattan  \n",
       "..             ...  \n",
       "132  Un-Identified  \n",
       "133         Queens  \n",
       "134         Queens  \n",
       "135         Queens  \n",
       "136  Un-Identified  \n",
       "\n",
       "[133 rows x 7 columns]"
      ]
     },
     "execution_count": 67,
     "metadata": {},
     "output_type": "execute_result"
    }
   ],
   "source": [
    "nineteen_hate "
   ]
  },
  {
   "cell_type": "markdown",
   "id": "narrow-trainer",
   "metadata": {},
   "source": [
    "#### We can place these values to create categories, just analyzing the values in this column theu differ from 2020."
   ]
  },
  {
   "cell_type": "code",
   "execution_count": 55,
   "id": "earned-customer",
   "metadata": {},
   "outputs": [
    {
     "data": {
      "text/plain": [
       "array(['Anti-Islamic (Muslim)', 'Anti-Hispanic', 'Anti-Islamic (Muslim)',\n",
       "       'Anti-White', 'Anti-Jewish', 'Anti-White', 'Anti-White',\n",
       "       'Anti-Jewish', 'Anti-male homosexual (Gay)',\n",
       "       'Anti-male homosexual (Gay)', 'Anti-Black', 'Anti-White',\n",
       "       'Anti-Jewish', 'Anti-White', 'Anti-White', 'Anti-Jewish',\n",
       "       'Anti-multi racial groups', 'Anti-Jewish', 'Anti-Black',\n",
       "       'Anti-Black', 'Anti-Jewish', 'Anti-male homosexual (Gay)',\n",
       "       'Anti-male homosexual (Gay)', 'Anti-White', 'Anti-Jewish',\n",
       "       'Anti-Jewish', 'Anti-Jewish', 'Anti-Jewish', 'Anti-Jewish',\n",
       "       'Anti-Jewish', 'Anti-White', 'Anti-male homosexual (Gay)',\n",
       "       'Anti-LGBT (mixed group)', 'Anti-LGBT (mixed group)',\n",
       "       'Anti-Hispanic', 'Anti-male homosexual (Gay)',\n",
       "       'Anti-other religion', 'Anti-White', 'Anti-Islamic (Muslim)',\n",
       "       'Anti-Islamic (Muslim)', 'Anti-Islamic (Muslim)',\n",
       "       'Anti-Islamic (Muslim)', 'Anti-Islamic (Muslim)',\n",
       "       'Anti-transgender', 'Anti-White', 'Anti-White', 'Anti-White',\n",
       "       'Anti-Hispanic', 'Anti-Jewish', 'Anti-Asian', 'Anti-Asian',\n",
       "       'Anti-Asian', 'Anti-Islamic (Muslim)', 'Anti-Islamic (Muslim)',\n",
       "       'Anti-Jewish', 'Anti-Islamic (Muslim)', 'Anti-Islamic (Muslim)',\n",
       "       'Anti-Jewish', 'Anti-Jewish', 'Anti-Jewish', 'Anti-Jewish',\n",
       "       'Anti-Jewish', 'Anti-Jewish', 'Anti-Hispanic',\n",
       "       'Anti-male homosexual (Gay)', 'Anti-male homosexual (Gay)',\n",
       "       'Anti-Black', 'Anti-Islamic (Muslim)', 'Anti-White',\n",
       "       'Anti-transgender', 'Anti-Jewish', 'Anti-Jewish', 'Anti-Jewish',\n",
       "       'Anti-Jewish', 'Anti-Jewish', 'Anti-Jewish', 'Anti-Jewish',\n",
       "       'Anti-Jewish', 'Anti-Jewish', 'Anti-Black', 'Anti-Black',\n",
       "       'Anti-Black', 'Anti-male homosexual (Gay)',\n",
       "       'Anti-male homosexual (Gay)', 'Anti-female homosexual (Lesbian)',\n",
       "       'Anti-male homosexual (Gay)', 'Anti-male homosexual (Gay)',\n",
       "       'Anti-male homosexual (Gay)', 'Anti-Jewish',\n",
       "       'Anti-male homosexual (Gay)', 'Anti-male homosexual (Gay)',\n",
       "       'Anti-male homosexual (Gay)', 'Anti-transgender', 'Anti-Jewish',\n",
       "       'Anti-male homosexual (Gay)', 'Anti-male homosexual (Gay)',\n",
       "       'Anti-Black', 'Anti-transgender', 'Anti-Islamic (Muslim)',\n",
       "       'Anti-Jewish', 'Anti-male homosexual (Gay)', 'Anti-Arab',\n",
       "       'Anti-Jewish', 'Anti-other religion', 'Anti-Jewish', 'Anti-Jewish',\n",
       "       'Anti-Jewish', 'Anti-Jewish', 'Anti-Jewish', 'Anti-Jewish',\n",
       "       'Anti-Jewish', 'Anti-Jewish', 'Anti-transgender', 'Anti-Jewish',\n",
       "       'Anti-Jewish', 'Anti-Islamic (Muslim)', 'Anti-Islamic (Muslim)',\n",
       "       'Anti-Islamic (Muslim)', 'Anti-Islamic (Muslim)',\n",
       "       'Anti-male homosexual (Gay)', 'Anti-male homosexual (Gay)',\n",
       "       'Anti-transgender', 'Anti-transgender', 'Anti-transgender',\n",
       "       'Anti-male homosexual (Gay)', 'Anti-transgender', 'Anti-Jewish',\n",
       "       'Anti-Jewish', 'Anti-Jewish', 'Anti-Black', 'Anti-Jewish',\n",
       "       'Anti-male homosexual (Gay)', 'Anti-male homosexual (Gay)'],\n",
       "      dtype=object)"
      ]
     },
     "execution_count": 55,
     "metadata": {},
     "output_type": "execute_result"
    }
   ],
   "source": [
    "nineteen_hate_crime['Bias-Motivation'].values"
   ]
  },
  {
   "cell_type": "markdown",
   "id": "metric-generator",
   "metadata": {},
   "source": [
    "#### This is our new column. "
   ]
  },
  {
   "cell_type": "code",
   "execution_count": 69,
   "id": "seventh-hearing",
   "metadata": {},
   "outputs": [],
   "source": [
    "category_dictionary = {'Anti-Islamic (Muslim)':'Anti_Religion',\n",
    "                       'Anti-Jewish':'Anti_Religion',\n",
    "                       'Anti-transgender':'Anti_LGBTQ',\n",
    "                       'Anti-male homosexual (Gay)':'Anti_LGBTQ',\n",
    "                       'Anti-female homosexual (Lesbian)':'Anti_LGBTQ',\n",
    "                       'Anti-Hispanic':'Anti_Ethnicity',\n",
    "                       'Anti-White':'Anti_Ethnicity',\n",
    "                       'Anti-Black':'Anti-Ethnicity',\n",
    "                       'Anti-multi racial groups':'Anti_Ethnicity',\n",
    "                       'Anti-Hispanic':'Anti_Ethnicity',\n",
    "                       'Anti-Asian':'Anti_Ethnicity'\n",
    "                      }"
   ]
  },
  {
   "cell_type": "code",
   "execution_count": 70,
   "id": "elect-suffering",
   "metadata": {},
   "outputs": [],
   "source": [
    "nineteen_hate['Categories'] = nineteen_hate['Bias-Motivation'].map(category_dictionary)"
   ]
  },
  {
   "cell_type": "code",
   "execution_count": 71,
   "id": "specialized-reducing",
   "metadata": {},
   "outputs": [
    {
     "data": {
      "text/html": [
       "<div>\n",
       "<style scoped>\n",
       "    .dataframe tbody tr th:only-of-type {\n",
       "        vertical-align: middle;\n",
       "    }\n",
       "\n",
       "    .dataframe tbody tr th {\n",
       "        vertical-align: top;\n",
       "    }\n",
       "\n",
       "    .dataframe thead th {\n",
       "        text-align: right;\n",
       "    }\n",
       "</style>\n",
       "<table border=\"1\" class=\"dataframe\">\n",
       "  <thead>\n",
       "    <tr style=\"text-align: right;\">\n",
       "      <th></th>\n",
       "      <th>Index</th>\n",
       "      <th>Precinct</th>\n",
       "      <th>Gender</th>\n",
       "      <th>Race</th>\n",
       "      <th>Age</th>\n",
       "      <th>Bias-Motivation</th>\n",
       "      <th>Borough</th>\n",
       "      <th>Categories</th>\n",
       "    </tr>\n",
       "  </thead>\n",
       "  <tbody>\n",
       "    <tr>\n",
       "      <th>4</th>\n",
       "      <td>1</td>\n",
       "      <td>1</td>\n",
       "      <td>Female</td>\n",
       "      <td>White</td>\n",
       "      <td>64</td>\n",
       "      <td>Anti-Islamic (Muslim)</td>\n",
       "      <td>Manhattan</td>\n",
       "      <td>Anti_Religion</td>\n",
       "    </tr>\n",
       "    <tr>\n",
       "      <th>5</th>\n",
       "      <td>2</td>\n",
       "      <td>5</td>\n",
       "      <td>Female</td>\n",
       "      <td>White</td>\n",
       "      <td>49</td>\n",
       "      <td>Anti-Hispanic</td>\n",
       "      <td>Manhattan</td>\n",
       "      <td>Anti_Ethnicity</td>\n",
       "    </tr>\n",
       "    <tr>\n",
       "      <th>6</th>\n",
       "      <td>3</td>\n",
       "      <td>0</td>\n",
       "      <td>Male</td>\n",
       "      <td>White</td>\n",
       "      <td>44</td>\n",
       "      <td>Anti-Islamic (Muslim)</td>\n",
       "      <td>Un-Identified</td>\n",
       "      <td>Anti_Religion</td>\n",
       "    </tr>\n",
       "    <tr>\n",
       "      <th>7</th>\n",
       "      <td>4</td>\n",
       "      <td>0</td>\n",
       "      <td>Male</td>\n",
       "      <td>Black</td>\n",
       "      <td>41</td>\n",
       "      <td>Anti-White</td>\n",
       "      <td>Un-Identified</td>\n",
       "      <td>Anti_Ethnicity</td>\n",
       "    </tr>\n",
       "    <tr>\n",
       "      <th>8</th>\n",
       "      <td>5</td>\n",
       "      <td>6</td>\n",
       "      <td>Male</td>\n",
       "      <td>Black</td>\n",
       "      <td>21</td>\n",
       "      <td>Anti-Jewish</td>\n",
       "      <td>Manhattan</td>\n",
       "      <td>Anti_Religion</td>\n",
       "    </tr>\n",
       "    <tr>\n",
       "      <th>...</th>\n",
       "      <td>...</td>\n",
       "      <td>...</td>\n",
       "      <td>...</td>\n",
       "      <td>...</td>\n",
       "      <td>...</td>\n",
       "      <td>...</td>\n",
       "      <td>...</td>\n",
       "      <td>...</td>\n",
       "    </tr>\n",
       "    <tr>\n",
       "      <th>132</th>\n",
       "      <td>129</td>\n",
       "      <td>0</td>\n",
       "      <td>Male</td>\n",
       "      <td>White</td>\n",
       "      <td>12</td>\n",
       "      <td>Anti-Jewish</td>\n",
       "      <td>Un-Identified</td>\n",
       "      <td>Anti_Religion</td>\n",
       "    </tr>\n",
       "    <tr>\n",
       "      <th>133</th>\n",
       "      <td>130</td>\n",
       "      <td>113</td>\n",
       "      <td>Male</td>\n",
       "      <td>Asian</td>\n",
       "      <td>61</td>\n",
       "      <td>Anti-Black</td>\n",
       "      <td>Queens</td>\n",
       "      <td>Anti-Ethnicity</td>\n",
       "    </tr>\n",
       "    <tr>\n",
       "      <th>134</th>\n",
       "      <td>131</td>\n",
       "      <td>114</td>\n",
       "      <td>Male</td>\n",
       "      <td>Asian</td>\n",
       "      <td>24</td>\n",
       "      <td>Anti-Jewish</td>\n",
       "      <td>Queens</td>\n",
       "      <td>Anti_Religion</td>\n",
       "    </tr>\n",
       "    <tr>\n",
       "      <th>135</th>\n",
       "      <td>132</td>\n",
       "      <td>115</td>\n",
       "      <td>Male</td>\n",
       "      <td>White</td>\n",
       "      <td>28</td>\n",
       "      <td>Anti-male homosexual (Gay)</td>\n",
       "      <td>Queens</td>\n",
       "      <td>Anti_LGBTQ</td>\n",
       "    </tr>\n",
       "    <tr>\n",
       "      <th>136</th>\n",
       "      <td>133</td>\n",
       "      <td>0</td>\n",
       "      <td>Male</td>\n",
       "      <td>White</td>\n",
       "      <td>28</td>\n",
       "      <td>Anti-male homosexual (Gay)</td>\n",
       "      <td>Un-Identified</td>\n",
       "      <td>Anti_LGBTQ</td>\n",
       "    </tr>\n",
       "  </tbody>\n",
       "</table>\n",
       "<p>133 rows × 8 columns</p>\n",
       "</div>"
      ],
      "text/plain": [
       "    Index Precinct  Gender   Race Age             Bias-Motivation  \\\n",
       "4       1        1  Female  White  64       Anti-Islamic (Muslim)   \n",
       "5       2        5  Female  White  49               Anti-Hispanic   \n",
       "6       3        0    Male  White  44       Anti-Islamic (Muslim)   \n",
       "7       4        0    Male  Black  41                  Anti-White   \n",
       "8       5        6    Male  Black  21                 Anti-Jewish   \n",
       "..    ...      ...     ...    ...  ..                         ...   \n",
       "132   129        0    Male  White  12                 Anti-Jewish   \n",
       "133   130      113    Male  Asian  61                  Anti-Black   \n",
       "134   131      114    Male  Asian  24                 Anti-Jewish   \n",
       "135   132      115    Male  White  28  Anti-male homosexual (Gay)   \n",
       "136   133        0    Male  White  28  Anti-male homosexual (Gay)   \n",
       "\n",
       "           Borough      Categories  \n",
       "4        Manhattan   Anti_Religion  \n",
       "5        Manhattan  Anti_Ethnicity  \n",
       "6    Un-Identified   Anti_Religion  \n",
       "7    Un-Identified  Anti_Ethnicity  \n",
       "8        Manhattan   Anti_Religion  \n",
       "..             ...             ...  \n",
       "132  Un-Identified   Anti_Religion  \n",
       "133         Queens  Anti-Ethnicity  \n",
       "134         Queens   Anti_Religion  \n",
       "135         Queens      Anti_LGBTQ  \n",
       "136  Un-Identified      Anti_LGBTQ  \n",
       "\n",
       "[133 rows x 8 columns]"
      ]
     },
     "execution_count": 71,
     "metadata": {},
     "output_type": "execute_result"
    }
   ],
   "source": [
    "nineteen_hate"
   ]
  },
  {
   "cell_type": "markdown",
   "id": "respected-public",
   "metadata": {},
   "source": [
    "#### This is a visualization of the different kinds of Categories Per Borough"
   ]
  },
  {
   "cell_type": "markdown",
   "id": "severe-leather",
   "metadata": {},
   "source": [
    "#### Anti_Religion was identified the most in Manhattan, however the Borough is Un-Identified for those who are Anti-Religion"
   ]
  },
  {
   "cell_type": "code",
   "execution_count": 73,
   "id": "aggregate-input",
   "metadata": {},
   "outputs": [
    {
     "data": {
      "text/plain": [
       "<AxesSubplot:xlabel='Borough', ylabel='Anti-Religion Count Per Borough'>"
      ]
     },
     "execution_count": 73,
     "metadata": {},
     "output_type": "execute_result"
    },
    {
     "data": {
      "image/png": "[encoded data removed]",
      "text/plain": [
       "<Figure size 432x288 with 1 Axes>"
      ]
     },
     "metadata": {
      "needs_background": "light"
     },
     "output_type": "display_data"
    }
   ],
   "source": [
    "nineteen_hate[nineteen_hate[\"Categories\"] == \"Anti_Religion\"].groupby(\"Borough\").size().sort_values(ascending=False).plot(kind = 'bar', xlabel ='Borough', ylabel ='Anti-Religion Count Per Borough')"
   ]
  },
  {
   "cell_type": "code",
   "execution_count": 74,
   "id": "dramatic-psychiatry",
   "metadata": {},
   "outputs": [
    {
     "data": {
      "text/plain": [
       "<AxesSubplot:ylabel='Anti-Religion Count Per Borough'>"
      ]
     },
     "execution_count": 74,
     "metadata": {},
     "output_type": "execute_result"
    },
    {
     "data": {
      "image/png": "[encoded data removed]",
      "text/plain": [
       "<Figure size 432x288 with 1 Axes>"
      ]
     },
     "metadata": {},
     "output_type": "display_data"
    }
   ],
   "source": [
    "nineteen_hate[nineteen_hate[\"Categories\"] == \"Anti_Religion\"].groupby(\"Borough\").size().sort_values(ascending=False).plot(kind = 'pie', xlabel ='Borough', ylabel ='Anti-Religion Count Per Borough',autopct='%.2f')"
   ]
  },
  {
   "cell_type": "markdown",
   "id": "earned-austria",
   "metadata": {},
   "source": [
    "#### Hate Crime Against Anti_Ethinicity is identifed the most at an Unidentified Precinct."
   ]
  },
  {
   "cell_type": "code",
   "execution_count": 75,
   "id": "magnetic-turtle",
   "metadata": {},
   "outputs": [
    {
     "data": {
      "text/plain": [
       "<AxesSubplot:ylabel='Anti-Ethncity Count Per Borough'>"
      ]
     },
     "execution_count": 75,
     "metadata": {},
     "output_type": "execute_result"
    },
    {
     "data": {
      "image/png": "[encoded data removed]",
      "text/plain": [
       "<Figure size 432x288 with 1 Axes>"
      ]
     },
     "metadata": {},
     "output_type": "display_data"
    }
   ],
   "source": [
    "nineteen_hate[nineteen_hate[\"Categories\"] == \"Anti_Ethnicity\"].groupby(\"Borough\").size().sort_values(ascending=False).plot(kind = 'pie', xlabel ='Borough', ylabel ='Anti-Ethncity Count Per Borough',autopct='%.2f')"
   ]
  },
  {
   "cell_type": "markdown",
   "id": "canadian-liberal",
   "metadata": {},
   "source": [
    "#### Hate Crime Against Anti-LGBTQ is identifed the most at an Unidentified Precinct."
   ]
  },
  {
   "cell_type": "code",
   "execution_count": 76,
   "id": "criminal-underground",
   "metadata": {},
   "outputs": [
    {
     "data": {
      "text/plain": [
       "<AxesSubplot:ylabel='Anti-LGBTQ Count Per Borough'>"
      ]
     },
     "execution_count": 76,
     "metadata": {},
     "output_type": "execute_result"
    },
    {
     "data": {
      "image/png": "[encoded data removed]",
      "text/plain": [
       "<Figure size 432x288 with 1 Axes>"
      ]
     },
     "metadata": {},
     "output_type": "display_data"
    }
   ],
   "source": [
    "nineteen_hate[nineteen_hate[\"Categories\"] == \"Anti_LGBTQ\"].groupby(\"Borough\").size().sort_values(ascending=False).plot(kind = 'pie', xlabel ='Borough', ylabel ='Anti-LGBTQ Count Per Borough',autopct='%.2f')"
   ]
  },
  {
   "cell_type": "markdown",
   "id": "separated-dominican",
   "metadata": {},
   "source": [
    "#### Hate Crime Against Asian Community is identifed the most at an Unidentified Precinct."
   ]
  },
  {
   "cell_type": "code",
   "execution_count": 140,
   "id": "inner-mambo",
   "metadata": {},
   "outputs": [
    {
     "data": {
      "text/plain": [
       "<AxesSubplot:ylabel='Anti-Asian Count Per Borough'>"
      ]
     },
     "execution_count": 140,
     "metadata": {},
     "output_type": "execute_result"
    },
    {
     "data": {
      "image/png": "[encoded data removed]",
      "text/plain": [
       "<Figure size 504x216 with 1 Axes>"
      ]
     },
     "metadata": {},
     "output_type": "display_data"
    }
   ],
   "source": [
    "nineteen_hate[nineteen_hate[\"Bias-Motivation\"] == \"Anti-Asian\"].groupby(\"Borough\").size().sort_values(ascending=False).plot(kind = 'pie', xlabel ='Borough', ylabel ='Anti-Asian Count Per Borough',autopct='%.2f')"
   ]
  },
  {
   "cell_type": "markdown",
   "id": "pointed-brisbane",
   "metadata": {},
   "source": [
    "#### From this we are able to identify that alot of the Boroughs aren't identified whether it was that the Precicnt wasn't identifed or someone didn't feel comfortable to do so, showing inaccuracies in data. "
   ]
  },
  {
   "cell_type": "markdown",
   "id": "norwegian-conservation",
   "metadata": {},
   "source": [
    "## Exploratory Data Analysis <a id='3'></a>"
   ]
  },
  {
   "cell_type": "markdown",
   "id": "complicated-emergency",
   "metadata": {},
   "source": [
    "#### Save all values into variables to plot  of all the different categories"
   ]
  },
  {
   "cell_type": "code",
   "execution_count": 102,
   "id": "fifth-opposition",
   "metadata": {},
   "outputs": [],
   "source": [
    "nineteen_lgbtq = nineteen_hate[nineteen_hate[\"Categories\"] == \"Anti_LGBTQ\"].groupby(\"Borough\").size()"
   ]
  },
  {
   "cell_type": "code",
   "execution_count": 104,
   "id": "assumed-disease",
   "metadata": {},
   "outputs": [],
   "source": [
    "nineteen_ethnicity =nineteen_hate[nineteen_hate[\"Categories\"] == \"Anti_Ethnicity\"].groupby(\"Borough\").size()"
   ]
  },
  {
   "cell_type": "code",
   "execution_count": 105,
   "id": "computational-israel",
   "metadata": {},
   "outputs": [],
   "source": [
    "nineteen_religion = nineteen_hate[nineteen_hate[\"Categories\"] == \"Anti_Religion\"].groupby(\"Borough\").size()"
   ]
  },
  {
   "cell_type": "code",
   "execution_count": 109,
   "id": "portuguese-husband",
   "metadata": {},
   "outputs": [],
   "source": [
    "twentytwenty_religion = twentytwenty_hate[twentytwenty_hate[\"Categories\"] == \"Anti-Religion\"].groupby(\"Borough\").size()"
   ]
  },
  {
   "cell_type": "code",
   "execution_count": 112,
   "id": "vital-cheese",
   "metadata": {},
   "outputs": [],
   "source": [
    "twentytwenty_ethnicity = twentytwenty_hate[twentytwenty_hate[\"Categories\"] == \"Anti-Ethnicity\"].groupby(\"Borough\").size()"
   ]
  },
  {
   "cell_type": "code",
   "execution_count": 115,
   "id": "legislative-gothic",
   "metadata": {},
   "outputs": [],
   "source": [
    "twentytwenty_lgbtq = twentytwenty_hate[twentytwenty_hate[\"Categories\"] == \"Anti-LGBTQ\"].groupby(\"Borough\").size()"
   ]
  },
  {
   "cell_type": "code",
   "execution_count": 137,
   "id": "organizational-macedonia",
   "metadata": {},
   "outputs": [
    {
     "data": {
      "text/plain": [
       "<matplotlib.legend.Legend at 0x7f8af13731f0>"
      ]
     },
     "execution_count": 137,
     "metadata": {},
     "output_type": "execute_result"
    },
    {
     "data": {
      "image/png": "[encoded data removed]",
      "text/plain": [
       "<Figure size 504x216 with 1 Axes>"
      ]
     },
     "metadata": {},
     "output_type": "display_data"
    }
   ],
   "source": [
    "plt.plot(nineteen_religion,label = 'Religion')\n",
    "plt.plot(nineteen_ethnicity,label = 'Ethnicity')\n",
    "plt.plot(nineteen_lgbtq, label = 'LGBTQ')\n",
    "plt.plot(twentytwenty_religion, label ='Religion')\n",
    "plt.plot(twentytwenty_ethnicity,label ='Ethnicity')\n",
    "plt.plot(twentytwenty_lgbtq,label ='LGBTQ')\n",
    "plt.grid(True, color = 'k', linestyle = ':')\n",
    "plt.title('Different Categories Per Borough')\n",
    "plt.xlabel('Boroughs')\n",
    "plt.ylabel('Count')\n",
    "plt.style.use('fivethirtyeight')\n",
    "\n",
    "\n",
    "plt.legend()"
   ]
  },
  {
   "cell_type": "markdown",
   "id": "portable-federal",
   "metadata": {},
   "source": [
    "##### Overall in 2019, the trend that was the common was Religion and in 2020 Ethnicity peaked the most as well as the LGBTQ hate. "
   ]
  },
  {
   "cell_type": "markdown",
   "id": "toxic-hunter",
   "metadata": {},
   "source": [
    "#### Now analyzing the data from 2019 and 2020 Asian Crimes, we merge it into a new dataframe "
   ]
  },
  {
   "cell_type": "code",
   "execution_count": 155,
   "id": "visible-project",
   "metadata": {},
   "outputs": [],
   "source": [
    "bar1 = nineteen_hate[nineteen_hate[\"Bias-Motivation\"] == \"Anti-Asian\"].groupby(\"Borough\",as_index=False).size()"
   ]
  },
  {
   "cell_type": "code",
   "execution_count": 157,
   "id": "fantastic-salmon",
   "metadata": {},
   "outputs": [],
   "source": [
    "bar2 = twentytwenty_hate[twentytwenty_hate[\"Bias-Motivation\"] == \"ANTI-ASIAN\"].groupby(\"Borough\",as_index=False).size()"
   ]
  },
  {
   "cell_type": "code",
   "execution_count": 163,
   "id": "numerical-surname",
   "metadata": {},
   "outputs": [],
   "source": [
    "bar1 = bar1.rename(columns={'size':'2019'})"
   ]
  },
  {
   "cell_type": "code",
   "execution_count": 164,
   "id": "academic-dressing",
   "metadata": {},
   "outputs": [
    {
     "data": {
      "text/html": [
       "<div>\n",
       "<style scoped>\n",
       "    .dataframe tbody tr th:only-of-type {\n",
       "        vertical-align: middle;\n",
       "    }\n",
       "\n",
       "    .dataframe tbody tr th {\n",
       "        vertical-align: top;\n",
       "    }\n",
       "\n",
       "    .dataframe thead th {\n",
       "        text-align: right;\n",
       "    }\n",
       "</style>\n",
       "<table border=\"1\" class=\"dataframe\">\n",
       "  <thead>\n",
       "    <tr style=\"text-align: right;\">\n",
       "      <th></th>\n",
       "      <th>Borough</th>\n",
       "      <th>2019</th>\n",
       "    </tr>\n",
       "  </thead>\n",
       "  <tbody>\n",
       "    <tr>\n",
       "      <th>0</th>\n",
       "      <td>Brooklyn</td>\n",
       "      <td>1</td>\n",
       "    </tr>\n",
       "    <tr>\n",
       "      <th>1</th>\n",
       "      <td>Un-Identified</td>\n",
       "      <td>2</td>\n",
       "    </tr>\n",
       "  </tbody>\n",
       "</table>\n",
       "</div>"
      ],
      "text/plain": [
       "         Borough  2019\n",
       "0       Brooklyn     1\n",
       "1  Un-Identified     2"
      ]
     },
     "execution_count": 164,
     "metadata": {},
     "output_type": "execute_result"
    }
   ],
   "source": [
    "bar1"
   ]
  },
  {
   "cell_type": "code",
   "execution_count": 165,
   "id": "affiliated-launch",
   "metadata": {},
   "outputs": [],
   "source": [
    "bar2= bar2.rename(columns={'size':'2020'})"
   ]
  },
  {
   "cell_type": "code",
   "execution_count": 166,
   "id": "thrown-sentence",
   "metadata": {},
   "outputs": [
    {
     "data": {
      "text/html": [
       "<div>\n",
       "<style scoped>\n",
       "    .dataframe tbody tr th:only-of-type {\n",
       "        vertical-align: middle;\n",
       "    }\n",
       "\n",
       "    .dataframe tbody tr th {\n",
       "        vertical-align: top;\n",
       "    }\n",
       "\n",
       "    .dataframe thead th {\n",
       "        text-align: right;\n",
       "    }\n",
       "</style>\n",
       "<table border=\"1\" class=\"dataframe\">\n",
       "  <thead>\n",
       "    <tr style=\"text-align: right;\">\n",
       "      <th></th>\n",
       "      <th>Borough</th>\n",
       "      <th>2020</th>\n",
       "    </tr>\n",
       "  </thead>\n",
       "  <tbody>\n",
       "    <tr>\n",
       "      <th>0</th>\n",
       "      <td>Bronx</td>\n",
       "      <td>5</td>\n",
       "    </tr>\n",
       "    <tr>\n",
       "      <th>1</th>\n",
       "      <td>Brooklyn</td>\n",
       "      <td>4</td>\n",
       "    </tr>\n",
       "    <tr>\n",
       "      <th>2</th>\n",
       "      <td>Manhattan</td>\n",
       "      <td>8</td>\n",
       "    </tr>\n",
       "    <tr>\n",
       "      <th>3</th>\n",
       "      <td>Queens</td>\n",
       "      <td>2</td>\n",
       "    </tr>\n",
       "    <tr>\n",
       "      <th>4</th>\n",
       "      <td>Staten Island</td>\n",
       "      <td>1</td>\n",
       "    </tr>\n",
       "  </tbody>\n",
       "</table>\n",
       "</div>"
      ],
      "text/plain": [
       "         Borough  2020\n",
       "0          Bronx     5\n",
       "1       Brooklyn     4\n",
       "2      Manhattan     8\n",
       "3         Queens     2\n",
       "4  Staten Island     1"
      ]
     },
     "execution_count": 166,
     "metadata": {},
     "output_type": "execute_result"
    }
   ],
   "source": [
    "bar2"
   ]
  },
  {
   "cell_type": "code",
   "execution_count": 170,
   "id": "conventional-empty",
   "metadata": {},
   "outputs": [],
   "source": [
    "new_df = pd.merge(bar1,bar2,on = 'Borough',how='outer')"
   ]
  },
  {
   "cell_type": "markdown",
   "id": "oriental-pharmacology",
   "metadata": {},
   "source": [
    "#### To graph this we must fill the null values with 0 and graph the plot"
   ]
  },
  {
   "cell_type": "code",
   "execution_count": 171,
   "id": "ruled-dover",
   "metadata": {},
   "outputs": [
    {
     "data": {
      "text/html": [
       "<div>\n",
       "<style scoped>\n",
       "    .dataframe tbody tr th:only-of-type {\n",
       "        vertical-align: middle;\n",
       "    }\n",
       "\n",
       "    .dataframe tbody tr th {\n",
       "        vertical-align: top;\n",
       "    }\n",
       "\n",
       "    .dataframe thead th {\n",
       "        text-align: right;\n",
       "    }\n",
       "</style>\n",
       "<table border=\"1\" class=\"dataframe\">\n",
       "  <thead>\n",
       "    <tr style=\"text-align: right;\">\n",
       "      <th></th>\n",
       "      <th>Borough</th>\n",
       "      <th>2019</th>\n",
       "      <th>2020</th>\n",
       "    </tr>\n",
       "  </thead>\n",
       "  <tbody>\n",
       "    <tr>\n",
       "      <th>0</th>\n",
       "      <td>Brooklyn</td>\n",
       "      <td>1.0</td>\n",
       "      <td>4.0</td>\n",
       "    </tr>\n",
       "    <tr>\n",
       "      <th>1</th>\n",
       "      <td>Un-Identified</td>\n",
       "      <td>2.0</td>\n",
       "      <td>0.0</td>\n",
       "    </tr>\n",
       "    <tr>\n",
       "      <th>2</th>\n",
       "      <td>Bronx</td>\n",
       "      <td>0.0</td>\n",
       "      <td>5.0</td>\n",
       "    </tr>\n",
       "    <tr>\n",
       "      <th>3</th>\n",
       "      <td>Manhattan</td>\n",
       "      <td>0.0</td>\n",
       "      <td>8.0</td>\n",
       "    </tr>\n",
       "    <tr>\n",
       "      <th>4</th>\n",
       "      <td>Queens</td>\n",
       "      <td>0.0</td>\n",
       "      <td>2.0</td>\n",
       "    </tr>\n",
       "    <tr>\n",
       "      <th>5</th>\n",
       "      <td>Staten Island</td>\n",
       "      <td>0.0</td>\n",
       "      <td>1.0</td>\n",
       "    </tr>\n",
       "  </tbody>\n",
       "</table>\n",
       "</div>"
      ],
      "text/plain": [
       "         Borough  2019  2020\n",
       "0       Brooklyn   1.0   4.0\n",
       "1  Un-Identified   2.0   0.0\n",
       "2          Bronx   0.0   5.0\n",
       "3      Manhattan   0.0   8.0\n",
       "4         Queens   0.0   2.0\n",
       "5  Staten Island   0.0   1.0"
      ]
     },
     "execution_count": 171,
     "metadata": {},
     "output_type": "execute_result"
    }
   ],
   "source": [
    "new_df.fillna(0)"
   ]
  },
  {
   "cell_type": "code",
   "execution_count": 174,
   "id": "sorted-baptist",
   "metadata": {},
   "outputs": [
    {
     "data": {
      "text/plain": [
       "<AxesSubplot:xlabel='Borough'>"
      ]
     },
     "execution_count": 174,
     "metadata": {},
     "output_type": "execute_result"
    },
    {
     "data": {
      "image/png": "[encoded data removed]",
      "text/plain": [
       "<Figure size 504x216 with 1 Axes>"
      ]
     },
     "metadata": {},
     "output_type": "display_data"
    }
   ],
   "source": [
    "new_df.plot.bar(x='Borough')"
   ]
  },
  {
   "cell_type": "markdown",
   "id": "sealed-intake",
   "metadata": {},
   "source": [
    "#### Overall we are able to view that the hate crime associated with the Asian community is higher. "
   ]
  },
  {
   "cell_type": "markdown",
   "id": "boxed-jacket",
   "metadata": {},
   "source": [
    "### Further Analysis & Conclusions: <a id='4'></a>"
   ]
  },
  {
   "cell_type": "markdown",
   "id": "approximate-christian",
   "metadata": {},
   "source": [
    "#### Conclusions: \n",
    "    Hate Crime for the Asian Community did increase from 2019 to 2020, therefore showing that the Asian community was impacted the most in 2020 and therefore impacting their buisness. "
   ]
  },
  {
   "cell_type": "markdown",
   "id": "efficient-lloyd",
   "metadata": {},
   "source": [
    "#### Further Analysis:"
   ]
  },
  {
   "cell_type": "markdown",
   "id": "smaller-awareness",
   "metadata": {},
   "source": [
    "    One way we can contunie to do a further analysis is by analyzing the boroughs and common zipcodes that were identified in customers survey and compare that to COVID-19 data. By analyzing the behavior we can see the common trends and patterns of where area's got hit the most. "
   ]
  },
  {
   "cell_type": "markdown",
   "id": "southern-jaguar",
   "metadata": {},
   "source": [
    " https://www1.nyc.gov/site/doh/covid/covid-19-data-neighborhoods.page"
   ]
  },
  {
   "cell_type": "markdown",
   "id": "olympic-estonia",
   "metadata": {},
   "source": [
    "    Another further analysis that can be done is going back to 2018  and 2017 data to compare larger trends and see where these areas have gotten worse for the Asian community. "
   ]
  },
  {
   "cell_type": "markdown",
   "id": "spanish-tanzania",
   "metadata": {},
   "source": [
    "    Lastly the further analysis can be done by comparing business traffic in the retail sector around these boroughs that were largely impacted by the Asian community, in the case of 2020 it would be identifying business in Manhattan that are Asian primarly and 2019 analyzing business that are in Brooklyn.  "
   ]
  }
 ],
 "metadata": {
  "kernelspec": {
   "display_name": "Python 3",
   "language": "python",
   "name": "python3"
  },
  "language_info": {
   "codemirror_mode": {
    "name": "ipython",
    "version": 3
   },
   "file_extension": ".py",
   "mimetype": "text/x-python",
   "name": "python",
   "nbconvert_exporter": "python",
   "pygments_lexer": "ipython3",
   "version": "3.9.0"
  }
 },
 "nbformat": 4,
 "nbformat_minor": 5
}
