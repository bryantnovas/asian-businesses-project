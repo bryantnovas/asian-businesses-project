{
 "cells": [
  {
   "cell_type": "code",
   "execution_count": null,
   "metadata": {},
   "outputs": [],
   "source": [
    "# from pydrive.auth import GoogleAuth\n",
    "# from pydrive.drive import GoogleDrive\n",
    "# import pandas as pd\n",
    "  \n",
    "# # Initializing a GoogleAuth Object\n",
    "# gauth = GoogleAuth()\n",
    "  \n",
    "# # client_secrets.json file is verified\n",
    "# # and it automatically handles authentication\n",
    "# gauth.LocalWebserverAuth()\n",
    "  \n",
    "# # GoogleDrive Instance is created using\n",
    "# # authenticated GoogleAuth instance\n",
    "# drive = GoogleDrive(gauth)\n",
    "  \n",
    "# # Initialize GoogleDriveFile instance with file id\n",
    "# file_obj = drive.CreateFile({'id': 'FILE_ID'})\n",
    "# file_obj.GetContentFile('FILE_NAME.xls',\n",
    "#          mimetype='application/vnd.openxmlformats-officedocument.spreadsheetml.sheet')\n",
    "  \n",
    "# dataframe = pd.read_excel('FILE_NAME.xls')\n",
    "# print(dataframe)"
   ]
  },
  {
   "cell_type": "code",
   "execution_count": null,
   "metadata": {},
   "outputs": [],
   "source": [
    "import smtplib, ssl\n",
    "port = 465  # For SSL\n",
    "smtp_server = \"smtp.gmail.com\"\n",
    "sender_email = \"gsturgis93@gmail.com\"  # Enter your address\n",
    "receiver_email = \"receiver email\"  # Enter receiver address\n",
    "password = input(\"Type your password and press enter: \")\n",
    "message = \"\"\"\\\n",
    "Subject: Hi there\n",
    "\n",
    "Hi [ Insert Business Name Here] , \n",
    "\n",
    "\tWe are SBS Recovery, our mission is to help small businesses that didn't get financial compensation throughout COVID-19.\n",
    "    We understand that businesses faced a lot of tragedy due to COVID-19, many businesses did not receive compensation to allow their employees to continue, and often some businesses had to close. \n",
    "    Our mission is to help Small Asian Businesses that did not receive financial compensation throughout the pandemic to gain access to the proper assistance to help their business grow. \n",
    "    Throughout the pandemic, we saw through the news outlets and first hand that many Asian businesses suffered due to the mass hate crime that surfaced.\n",
    "    Many hate crimes were not reported throughout this time, and many Asian businesses suffered in their business traffic so we want to give these businesses the opportunity to gain financial reimbursement. \n",
    "\tBelow we have attached a survey that has allowed us to get further insight on your business, and allow us to determine what financial compensation is the best match for your business. \n",
    "    Please complete it to your best ability, and email us if you have further questions about the survey.\n",
    "    \n",
    "    https://docs.google.com/forms/d/e/1FAIpQLSfzk7i2_puvDOElOh7cKHRw6NcVh9MKxkE57dEC7IIM2EESpw/viewform?usp=sf_link\n",
    "\"\"\"\n",
    "context = ssl.create_default_context()\n",
    "with smtplib.SMTP_SSL(smtp_server, port, context=context) as server:\n",
    "    server.login(sender_email, password)\n",
    "    server.sendmail(sender_email, receiver_email, message)"
   ]
  },
  {
   "cell_type": "code",
   "execution_count": null,
   "metadata": {},
   "outputs": [],
   "source": []
  }
 ],
 "metadata": {
  "kernelspec": {
   "display_name": "Python 3",
   "language": "python",
   "name": "python3"
  },
  "language_info": {
   "codemirror_mode": {
    "name": "ipython",
    "version": 3
   },
   "file_extension": ".py",
   "mimetype": "text/x-python",
   "name": "python",
   "nbconvert_exporter": "python",
   "pygments_lexer": "ipython3",
   "version": "3.9.0"
  }
 },
 "nbformat": 4,
 "nbformat_minor": 4
}
